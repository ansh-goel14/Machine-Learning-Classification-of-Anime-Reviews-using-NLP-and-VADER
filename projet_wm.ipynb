{
  "cells": [
    {
      "cell_type": "code",
      "execution_count": null,
      "metadata": {
        "_cell_guid": "b1076dfc-b9ad-4769-8c92-a6c4dae69d19",
        "_uuid": "8f2839f25d086af736a60e9eeb907d3b93b6e0e5",
        "execution": {
          "iopub.execute_input": "2023-01-13T09:14:27.830768Z",
          "iopub.status.busy": "2023-01-13T09:14:27.829275Z",
          "iopub.status.idle": "2023-01-13T09:14:27.863477Z",
          "shell.execute_reply": "2023-01-13T09:14:27.862018Z",
          "shell.execute_reply.started": "2023-01-13T09:14:27.830658Z"
        },
        "id": "4-XI_2PDh41T"
      },
      "outputs": [],
      "source": [
        "import numpy as np\n",
        "import pandas as pd\n",
        "\n",
        "import os\n",
        "for dirname, _, filenames in os.walk('/input'):\n",
        "    for filename in filenames:\n",
        "        print(os.path.join(dirname, filename))\n",
        "import re\n"
      ]
    },
    {
      "cell_type": "code",
      "execution_count": null,
      "metadata": {
        "execution": {
          "iopub.execute_input": "2023-01-13T09:14:32.231474Z",
          "iopub.status.busy": "2023-01-13T09:14:32.231049Z",
          "iopub.status.idle": "2023-01-13T09:14:48.713556Z",
          "shell.execute_reply": "2023-01-13T09:14:48.712057Z",
          "shell.execute_reply.started": "2023-01-13T09:14:32.231442Z"
        },
        "id": "24LlPmsDh41V"
      },
      "outputs": [],
      "source": [
        "df = pd.read_csv('input/reviews.csv')"
      ]
    },
    {
      "cell_type": "code",
      "execution_count": null,
      "metadata": {
        "execution": {
          "iopub.execute_input": "2023-01-13T09:14:57.790881Z",
          "iopub.status.busy": "2023-01-13T09:14:57.790439Z",
          "iopub.status.idle": "2023-01-13T09:14:58.102983Z",
          "shell.execute_reply": "2023-01-13T09:14:58.101721Z",
          "shell.execute_reply.started": "2023-01-13T09:14:57.790846Z"
        },
        "id": "KYtgbkHnh41W",
        "outputId": "fb7608c6-a35e-4b45-dc41-d5d1632bb182"
      },
      "outputs": [
        {
          "data": {
            "text/html": [
              "<div>\n",
              "<style scoped>\n",
              "    .dataframe tbody tr th:only-of-type {\n",
              "        vertical-align: middle;\n",
              "    }\n",
              "\n",
              "    .dataframe tbody tr th {\n",
              "        vertical-align: top;\n",
              "    }\n",
              "\n",
              "    .dataframe thead th {\n",
              "        text-align: right;\n",
              "    }\n",
              "</style>\n",
              "<table border=\"1\" class=\"dataframe\">\n",
              "  <thead>\n",
              "    <tr style=\"text-align: right;\">\n",
              "      <th></th>\n",
              "      <th>uid</th>\n",
              "      <th>profile</th>\n",
              "      <th>anime_uid</th>\n",
              "      <th>text</th>\n",
              "      <th>score</th>\n",
              "      <th>scores</th>\n",
              "      <th>link</th>\n",
              "    </tr>\n",
              "  </thead>\n",
              "  <tbody>\n",
              "    <tr>\n",
              "      <th>0</th>\n",
              "      <td>255938</td>\n",
              "      <td>DesolatePsyche</td>\n",
              "      <td>34096</td>\n",
              "      <td>\\n           \\n         \\n           \\n       ...</td>\n",
              "      <td>8</td>\n",
              "      <td>{'Overall': '8', 'Story': '8', 'Animation': '8...</td>\n",
              "      <td>https://myanimelist.net/reviews.php?id=255938</td>\n",
              "    </tr>\n",
              "    <tr>\n",
              "      <th>1</th>\n",
              "      <td>259117</td>\n",
              "      <td>baekbeans</td>\n",
              "      <td>34599</td>\n",
              "      <td>\\n           \\n         \\n           \\n       ...</td>\n",
              "      <td>10</td>\n",
              "      <td>{'Overall': '10', 'Story': '10', 'Animation': ...</td>\n",
              "      <td>https://myanimelist.net/reviews.php?id=259117</td>\n",
              "    </tr>\n",
              "    <tr>\n",
              "      <th>2</th>\n",
              "      <td>253664</td>\n",
              "      <td>skrn</td>\n",
              "      <td>28891</td>\n",
              "      <td>\\n           \\n         \\n           \\n       ...</td>\n",
              "      <td>7</td>\n",
              "      <td>{'Overall': '7', 'Story': '7', 'Animation': '9...</td>\n",
              "      <td>https://myanimelist.net/reviews.php?id=253664</td>\n",
              "    </tr>\n",
              "    <tr>\n",
              "      <th>3</th>\n",
              "      <td>8254</td>\n",
              "      <td>edgewalker00</td>\n",
              "      <td>2904</td>\n",
              "      <td>\\n           \\n         \\n           \\n       ...</td>\n",
              "      <td>9</td>\n",
              "      <td>{'Overall': '9', 'Story': '9', 'Animation': '9...</td>\n",
              "      <td>https://myanimelist.net/reviews.php?id=8254</td>\n",
              "    </tr>\n",
              "    <tr>\n",
              "      <th>4</th>\n",
              "      <td>291149</td>\n",
              "      <td>aManOfCulture99</td>\n",
              "      <td>4181</td>\n",
              "      <td>\\n           \\n         \\n           \\n       ...</td>\n",
              "      <td>10</td>\n",
              "      <td>{'Overall': '10', 'Story': '10', 'Animation': ...</td>\n",
              "      <td>https://myanimelist.net/reviews.php?id=291149</td>\n",
              "    </tr>\n",
              "  </tbody>\n",
              "</table>\n",
              "</div>"
            ],
            "text/plain": [
              "      uid          profile  anime_uid  \\\n",
              "0  255938   DesolatePsyche      34096   \n",
              "1  259117        baekbeans      34599   \n",
              "2  253664             skrn      28891   \n",
              "3    8254     edgewalker00       2904   \n",
              "4  291149  aManOfCulture99       4181   \n",
              "\n",
              "                                                text  score  \\\n",
              "0  \\n           \\n         \\n           \\n       ...      8   \n",
              "1  \\n           \\n         \\n           \\n       ...     10   \n",
              "2  \\n           \\n         \\n           \\n       ...      7   \n",
              "3  \\n           \\n         \\n           \\n       ...      9   \n",
              "4  \\n           \\n         \\n           \\n       ...     10   \n",
              "\n",
              "                                              scores  \\\n",
              "0  {'Overall': '8', 'Story': '8', 'Animation': '8...   \n",
              "1  {'Overall': '10', 'Story': '10', 'Animation': ...   \n",
              "2  {'Overall': '7', 'Story': '7', 'Animation': '9...   \n",
              "3  {'Overall': '9', 'Story': '9', 'Animation': '9...   \n",
              "4  {'Overall': '10', 'Story': '10', 'Animation': ...   \n",
              "\n",
              "                                            link  \n",
              "0  https://myanimelist.net/reviews.php?id=255938  \n",
              "1  https://myanimelist.net/reviews.php?id=259117  \n",
              "2  https://myanimelist.net/reviews.php?id=253664  \n",
              "3    https://myanimelist.net/reviews.php?id=8254  \n",
              "4  https://myanimelist.net/reviews.php?id=291149  "
            ]
          },
          "execution_count": 32,
          "metadata": {},
          "output_type": "execute_result"
        }
      ],
      "source": [
        "df.head()"
      ]
    },
    {
      "cell_type": "code",
      "execution_count": null,
      "metadata": {
        "execution": {
          "iopub.execute_input": "2023-01-13T09:14:58.772589Z",
          "iopub.status.busy": "2023-01-13T09:14:58.772002Z",
          "iopub.status.idle": "2023-01-13T09:14:58.875050Z",
          "shell.execute_reply": "2023-01-13T09:14:58.873544Z",
          "shell.execute_reply.started": "2023-01-13T09:14:58.772535Z"
        },
        "id": "Mlhy_Xnhh41W",
        "outputId": "d9624e84-b64f-4ac2-bb8d-a3bd2d2777df"
      },
      "outputs": [
        {
          "name": "stdout",
          "output_type": "stream",
          "text": [
            "<class 'pandas.core.frame.DataFrame'>\n",
            "RangeIndex: 192112 entries, 0 to 192111\n",
            "Data columns (total 7 columns):\n",
            " #   Column     Non-Null Count   Dtype \n",
            "---  ------     --------------   ----- \n",
            " 0   uid        192112 non-null  int64 \n",
            " 1   profile    192112 non-null  object\n",
            " 2   anime_uid  192112 non-null  int64 \n",
            " 3   text       192112 non-null  object\n",
            " 4   score      192112 non-null  int64 \n",
            " 5   scores     192112 non-null  object\n",
            " 6   link       192112 non-null  object\n",
            "dtypes: int64(3), object(4)\n",
            "memory usage: 10.3+ MB\n"
          ]
        }
      ],
      "source": [
        "df.info()"
      ]
    },
    {
      "cell_type": "markdown",
      "metadata": {
        "id": "nbTB0qxRh41W"
      },
      "source": [
        "# Preprocess"
      ]
    },
    {
      "cell_type": "code",
      "execution_count": null,
      "metadata": {
        "execution": {
          "iopub.execute_input": "2023-01-13T09:15:02.054964Z",
          "iopub.status.busy": "2023-01-13T09:15:02.054399Z",
          "iopub.status.idle": "2023-01-13T09:15:02.061878Z",
          "shell.execute_reply": "2023-01-13T09:15:02.060479Z",
          "shell.execute_reply.started": "2023-01-13T09:15:02.054920Z"
        },
        "id": "gSwG_S5Bh41X"
      },
      "outputs": [],
      "source": [
        "df = df.loc[0:3000]"
      ]
    },
    {
      "cell_type": "code",
      "execution_count": null,
      "metadata": {
        "execution": {
          "iopub.execute_input": "2023-01-13T09:15:03.491913Z",
          "iopub.status.busy": "2023-01-13T09:15:03.490547Z",
          "iopub.status.idle": "2023-01-13T09:15:03.500292Z",
          "shell.execute_reply": "2023-01-13T09:15:03.498810Z",
          "shell.execute_reply.started": "2023-01-13T09:15:03.491858Z"
        },
        "id": "A9yIQswAh41X",
        "outputId": "49fd20f9-c875-4ffc-8abb-481cb0dc0cbc"
      },
      "outputs": [
        {
          "data": {
            "text/plain": [
              "'\\n           \\n         \\n           \\n             \\n           \\n         \\n         \\n           more pics \\n         \\n       \\n         \\n       \\n         \\n           Overall \\n           8 \\n         \\n         \\n           Story \\n           8 \\n         \\n                   \\n             Animation \\n             8 \\n           \\n           \\n             Sound \\n             10 \\n           \\n                 \\n           Character \\n           9 \\n         \\n         \\n           Enjoyment \\n           8 \\n         \\n       \\n     \\n\\n                    \\n    First things first. My \"reviews\" system is explained on a blog entry. Which can be found through my profile. \\r\\n------ \\r\\n \\r\\nI\\'m going to keep this \"review\" more of a opinion of Gintama\\'s overall and then this season specific. \\r\\n \\r\\nAnyhow. What I have always loved regarding Gintama, is its content of everything. I love the comedy, its absurd, random, can be vile, dirty, sweet, anyhow, everything. Have laughed countless times in this franchise. Also the humor they have also is heavily reference based, a.k.a parodies of different anime, shows, manga, live stuff, real world, anime production and so on. Anyhow, comedy/parody side of this franchise i absolutely love. \\r\\n \\r\\nNow, 2nd side of this show is the serious dramas, epic battle shounens and so on.. There are arcs that are fully comedy, arcs that are fully serious and mixtures of both. Serious side is usually quite dramatic and managed to somewhat tear me up now and then. Whilst the action sequences are absolute bliss as well. They are just presented in a really cool manner. And extra points when sometime the add artistic element. \\r\\n \\r\\nOf course it has its slice-of-life side and pseudo-romance. Those are weaker side, but ain\\'t the focus. But when sometimes those are the \"focus\", then they are done in enjoyable method. \\r\\n \\r\\nTo sum up overall gintama\\'s, I love the serious side and the silly side. \\r\\n \\r\\nArt and sound (voice acting/ost/op/ed) is something I loved in all gintamas across the board. They just click with me, bliss to look at, bliss to hear. Music (op/ed) specifically are hyped up and upbeat, which generally I don\\'t like, but gintama is the exception where I love them. Art is cool, sometimes artistic, sometimes simple. It has a bit of everything that makes it enjoyable. And gore is absolutely satisfying as well. (well, the blood to be specific) \\r\\n \\r\\nWell, the serious side of stories in this anime are superb in my opinion. (or the overall idea of story that moves now and then). But wouldn\\'t say comedic side of series story is any worse.  When at times comedy side has \"story\". It\\'s usually quite enjoyable. \\r\\n \\r\\nRegarding characters I don\\'t have much to say other than that variety, stereotypes of \"off-stereotypes\" is very large. As well characters with depth but as well with oddity is as well in great selection. Main team. Gintoki the lazy dirty slob with superb second side of seriousness and caring about friends/allies. Shinpachi the poor straight-man-act sidekick, who adds great value to the team. Kagura, the battle race girl that doesn\\'t act like girl almost at all, or in another words a dirty slob girl in a sense. \\r\\n----------------- \\r\\n \\r\\nNow, to this season specific. \\r\\n \\r\\nI found it a bit disappointing. Mainly because usually in gintama we have overly serious arcs or fully comedic, whilst this one had a bit of mixture of both, which somewhat ruined the experience. Plus the artistic presentation felt this time around a bit lacking. Maybe because of another studio, who knows. But anyhow, it didn\\'t feel as superb. Rather than gintama it felt as watching just another good battle shounen anime in modern day with simplified animation. \\r\\n \\r\\nI mean it definitely was not any bad, just didn\\'t have the punch Gintama usually has. Might be because it was short series, maybe because it focused too much moving on with story. It\\'ll be shame to see it finalized in this manner. \\r\\n \\r\\nRest I pretty much loved as usual in Gintama franchise.\\n\\n          \\n \\n       Helpful \\n   \\n      '"
            ]
          },
          "execution_count": 35,
          "metadata": {},
          "output_type": "execute_result"
        }
      ],
      "source": [
        "df['text'][0]"
      ]
    },
    {
      "cell_type": "code",
      "execution_count": null,
      "metadata": {
        "execution": {
          "iopub.execute_input": "2023-01-13T09:16:19.574701Z",
          "iopub.status.busy": "2023-01-13T09:16:19.573358Z",
          "iopub.status.idle": "2023-01-13T09:16:19.584736Z",
          "shell.execute_reply": "2023-01-13T09:16:19.583450Z",
          "shell.execute_reply.started": "2023-01-13T09:16:19.574637Z"
        },
        "id": "0LTZqm6Zh41Y",
        "outputId": "6175ed94-f167-4ab0-9c6a-73dc33758aa8"
      },
      "outputs": [
        {
          "name": "stdout",
          "output_type": "stream",
          "text": [
            "                                                                                    more pics                                                     Overall            8                              Story            8                                          Animation              8                                    Sound              10                                        Character            9                              Enjoyment            8                                              First things first. My \"reviews\" system is explained on a blog entry. Which can be found through my profile. ------  I'm going to keep this \"review\" more of a opinion of Gintama's overall and then this season specific.  Anyhow. What I have always loved regarding Gintama, is its content of everything. I love the comedy, its absurd, random, can be vile, dirty, sweet, anyhow, everything. Have laughed countless times in this franchise. Also the humor they have also is heavily reference based, a.k.a parodies of different anime, shows, manga, live stuff, real world, anime production and so on. Anyhow, comedy/parody side of this franchise i absolutely love.  Now, 2nd side of this show is the serious dramas, epic battle shounens and so on.. There are arcs that are fully comedy, arcs that are fully serious and mixtures of both. Serious side is usually quite dramatic and managed to somewhat tear me up now and then. Whilst the action sequences are absolute bliss as well. They are just presented in a really cool manner. And extra points when sometime the add artistic element.  Of course it has its slice-of-life side and pseudo-romance. Those are weaker side, but ain't the focus. But when sometimes those are the \"focus\", then they are done in enjoyable method.  To sum up overall gintama's, I love the serious side and the silly side.  Art and sound  is something I loved in all gintamas across the board. They just click with me, bliss to look at, bliss to hear. Music  specifically are hyped up and upbeat, which generally I don't like, but gintama is the exception where I love them. Art is cool, sometimes artistic, sometimes simple. It has a bit of everything that makes it enjoyable. And gore is absolutely satisfying as well.   Well, the serious side of stories in this anime are superb in my opinion. . But wouldn't say comedic side of series story is any worse.  When at times comedy side has \"story\". It's usually quite enjoyable.  Regarding characters I don't have much to say other than that variety, stereotypes of \"off-stereotypes\" is very large. As well characters with depth but as well with oddity is as well in great selection. Main team. Gintoki the lazy dirty slob with superb second side of seriousness and caring about friends/allies. Shinpachi the poor straight-man-act sidekick, who adds great value to the team. Kagura, the battle race girl that doesn't act like girl almost at all, or in another words a dirty slob girl in a sense. -----------------  Now, to this season specific.  I found it a bit disappointing. Mainly because usually in gintama we have overly serious arcs or fully comedic, whilst this one had a bit of mixture of both, which somewhat ruined the experience. Plus the artistic presentation felt this time around a bit lacking. Maybe because of another studio, who knows. But anyhow, it didn't feel as superb. Rather than gintama it felt as watching just another good battle shounen anime in modern day with simplified animation.  I mean it definitely was not any bad, just didn't have the punch Gintama usually has. Might be because it was short series, maybe because it focused too much moving on with story. It'll be shame to see it finalized in this manner.  Rest I pretty much loved as usual in Gintama franchise.                  Helpful          \n"
          ]
        }
      ],
      "source": [
        "uid = 255938\n",
        "text = df[df['uid'] == uid].text.values[0]\n",
        "def clean_up_text(text):\n",
        "    doc = re.sub(\"[\\(\\[].*?[\\)\\]]\", \"\", text)\n",
        "    doc = doc.replace(u'\\n', u'').replace(u'\\r', u'')\n",
        "    return doc\n",
        "\n",
        "doc = clean_up_text(text)\n",
        "print(doc)"
      ]
    },
    {
      "cell_type": "code",
      "execution_count": null,
      "metadata": {
        "execution": {
          "iopub.execute_input": "2023-01-13T09:17:01.316387Z",
          "iopub.status.busy": "2023-01-13T09:17:01.315966Z",
          "iopub.status.idle": "2023-01-13T09:17:01.464644Z",
          "shell.execute_reply": "2023-01-13T09:17:01.463328Z",
          "shell.execute_reply.started": "2023-01-13T09:17:01.316353Z"
        },
        "id": "XMvfbdu4h41Y",
        "outputId": "b8cd2f87-81a8-4430-ef02-1def3c14dd21"
      },
      "outputs": [
        {
          "data": {
            "text/html": [
              "<div>\n",
              "<style scoped>\n",
              "    .dataframe tbody tr th:only-of-type {\n",
              "        vertical-align: middle;\n",
              "    }\n",
              "\n",
              "    .dataframe tbody tr th {\n",
              "        vertical-align: top;\n",
              "    }\n",
              "\n",
              "    .dataframe thead th {\n",
              "        text-align: right;\n",
              "    }\n",
              "</style>\n",
              "<table border=\"1\" class=\"dataframe\">\n",
              "  <thead>\n",
              "    <tr style=\"text-align: right;\">\n",
              "      <th></th>\n",
              "      <th>uid</th>\n",
              "      <th>profile</th>\n",
              "      <th>anime_uid</th>\n",
              "      <th>text</th>\n",
              "      <th>score</th>\n",
              "      <th>scores</th>\n",
              "      <th>link</th>\n",
              "      <th>cleanText</th>\n",
              "    </tr>\n",
              "  </thead>\n",
              "  <tbody>\n",
              "    <tr>\n",
              "      <th>0</th>\n",
              "      <td>255938</td>\n",
              "      <td>DesolatePsyche</td>\n",
              "      <td>34096</td>\n",
              "      <td>\\n           \\n         \\n           \\n       ...</td>\n",
              "      <td>8</td>\n",
              "      <td>{'Overall': '8', 'Story': '8', 'Animation': '8...</td>\n",
              "      <td>https://myanimelist.net/reviews.php?id=255938</td>\n",
              "      <td>...</td>\n",
              "    </tr>\n",
              "    <tr>\n",
              "      <th>1</th>\n",
              "      <td>259117</td>\n",
              "      <td>baekbeans</td>\n",
              "      <td>34599</td>\n",
              "      <td>\\n           \\n         \\n           \\n       ...</td>\n",
              "      <td>10</td>\n",
              "      <td>{'Overall': '10', 'Story': '10', 'Animation': ...</td>\n",
              "      <td>https://myanimelist.net/reviews.php?id=259117</td>\n",
              "      <td>...</td>\n",
              "    </tr>\n",
              "    <tr>\n",
              "      <th>2</th>\n",
              "      <td>253664</td>\n",
              "      <td>skrn</td>\n",
              "      <td>28891</td>\n",
              "      <td>\\n           \\n         \\n           \\n       ...</td>\n",
              "      <td>7</td>\n",
              "      <td>{'Overall': '7', 'Story': '7', 'Animation': '9...</td>\n",
              "      <td>https://myanimelist.net/reviews.php?id=253664</td>\n",
              "      <td>...</td>\n",
              "    </tr>\n",
              "    <tr>\n",
              "      <th>3</th>\n",
              "      <td>8254</td>\n",
              "      <td>edgewalker00</td>\n",
              "      <td>2904</td>\n",
              "      <td>\\n           \\n         \\n           \\n       ...</td>\n",
              "      <td>9</td>\n",
              "      <td>{'Overall': '9', 'Story': '9', 'Animation': '9...</td>\n",
              "      <td>https://myanimelist.net/reviews.php?id=8254</td>\n",
              "      <td>...</td>\n",
              "    </tr>\n",
              "    <tr>\n",
              "      <th>4</th>\n",
              "      <td>291149</td>\n",
              "      <td>aManOfCulture99</td>\n",
              "      <td>4181</td>\n",
              "      <td>\\n           \\n         \\n           \\n       ...</td>\n",
              "      <td>10</td>\n",
              "      <td>{'Overall': '10', 'Story': '10', 'Animation': ...</td>\n",
              "      <td>https://myanimelist.net/reviews.php?id=291149</td>\n",
              "      <td>...</td>\n",
              "    </tr>\n",
              "  </tbody>\n",
              "</table>\n",
              "</div>"
            ],
            "text/plain": [
              "      uid          profile  anime_uid  \\\n",
              "0  255938   DesolatePsyche      34096   \n",
              "1  259117        baekbeans      34599   \n",
              "2  253664             skrn      28891   \n",
              "3    8254     edgewalker00       2904   \n",
              "4  291149  aManOfCulture99       4181   \n",
              "\n",
              "                                                text  score  \\\n",
              "0  \\n           \\n         \\n           \\n       ...      8   \n",
              "1  \\n           \\n         \\n           \\n       ...     10   \n",
              "2  \\n           \\n         \\n           \\n       ...      7   \n",
              "3  \\n           \\n         \\n           \\n       ...      9   \n",
              "4  \\n           \\n         \\n           \\n       ...     10   \n",
              "\n",
              "                                              scores  \\\n",
              "0  {'Overall': '8', 'Story': '8', 'Animation': '8...   \n",
              "1  {'Overall': '10', 'Story': '10', 'Animation': ...   \n",
              "2  {'Overall': '7', 'Story': '7', 'Animation': '9...   \n",
              "3  {'Overall': '9', 'Story': '9', 'Animation': '9...   \n",
              "4  {'Overall': '10', 'Story': '10', 'Animation': ...   \n",
              "\n",
              "                                            link  \\\n",
              "0  https://myanimelist.net/reviews.php?id=255938   \n",
              "1  https://myanimelist.net/reviews.php?id=259117   \n",
              "2  https://myanimelist.net/reviews.php?id=253664   \n",
              "3    https://myanimelist.net/reviews.php?id=8254   \n",
              "4  https://myanimelist.net/reviews.php?id=291149   \n",
              "\n",
              "                                           cleanText  \n",
              "0                                                ...  \n",
              "1                                                ...  \n",
              "2                                                ...  \n",
              "3                                                ...  \n",
              "4                                                ...  "
            ]
          },
          "execution_count": 37,
          "metadata": {},
          "output_type": "execute_result"
        }
      ],
      "source": [
        "df['cleanText'] = df['text'].map(lambda x: clean_up_text(x))\n",
        "df.head()"
      ]
    },
    {
      "cell_type": "code",
      "execution_count": null,
      "metadata": {
        "execution": {
          "iopub.execute_input": "2023-01-13T09:17:08.390741Z",
          "iopub.status.busy": "2023-01-13T09:17:08.389909Z",
          "iopub.status.idle": "2023-01-13T09:17:08.399068Z",
          "shell.execute_reply": "2023-01-13T09:17:08.397691Z",
          "shell.execute_reply.started": "2023-01-13T09:17:08.390695Z"
        },
        "id": "sk1-Msf3h41Y",
        "outputId": "a3345545-1075-4b20-d775-e7c2d1dcbade"
      },
      "outputs": [
        {
          "data": {
            "text/plain": [
              "'                                                                                    more pics                                                     Overall            8                              Story            8                                          Animation              8                                    Sound              10                                        Character            9                              Enjoyment            8                                              First things first. My \"reviews\" system is explained on a blog entry. Which can be found through my profile. ------  I\\'m going to keep this \"review\" more of a opinion of Gintama\\'s overall and then this season specific.  Anyhow. What I have always loved regarding Gintama, is its content of everything. I love the comedy, its absurd, random, can be vile, dirty, sweet, anyhow, everything. Have laughed countless times in this franchise. Also the humor they have also is heavily reference based, a.k.a parodies of different anime, shows, manga, live stuff, real world, anime production and so on. Anyhow, comedy/parody side of this franchise i absolutely love.  Now, 2nd side of this show is the serious dramas, epic battle shounens and so on.. There are arcs that are fully comedy, arcs that are fully serious and mixtures of both. Serious side is usually quite dramatic and managed to somewhat tear me up now and then. Whilst the action sequences are absolute bliss as well. They are just presented in a really cool manner. And extra points when sometime the add artistic element.  Of course it has its slice-of-life side and pseudo-romance. Those are weaker side, but ain\\'t the focus. But when sometimes those are the \"focus\", then they are done in enjoyable method.  To sum up overall gintama\\'s, I love the serious side and the silly side.  Art and sound  is something I loved in all gintamas across the board. They just click with me, bliss to look at, bliss to hear. Music  specifically are hyped up and upbeat, which generally I don\\'t like, but gintama is the exception where I love them. Art is cool, sometimes artistic, sometimes simple. It has a bit of everything that makes it enjoyable. And gore is absolutely satisfying as well.   Well, the serious side of stories in this anime are superb in my opinion. . But wouldn\\'t say comedic side of series story is any worse.  When at times comedy side has \"story\". It\\'s usually quite enjoyable.  Regarding characters I don\\'t have much to say other than that variety, stereotypes of \"off-stereotypes\" is very large. As well characters with depth but as well with oddity is as well in great selection. Main team. Gintoki the lazy dirty slob with superb second side of seriousness and caring about friends/allies. Shinpachi the poor straight-man-act sidekick, who adds great value to the team. Kagura, the battle race girl that doesn\\'t act like girl almost at all, or in another words a dirty slob girl in a sense. -----------------  Now, to this season specific.  I found it a bit disappointing. Mainly because usually in gintama we have overly serious arcs or fully comedic, whilst this one had a bit of mixture of both, which somewhat ruined the experience. Plus the artistic presentation felt this time around a bit lacking. Maybe because of another studio, who knows. But anyhow, it didn\\'t feel as superb. Rather than gintama it felt as watching just another good battle shounen anime in modern day with simplified animation.  I mean it definitely was not any bad, just didn\\'t have the punch Gintama usually has. Might be because it was short series, maybe because it focused too much moving on with story. It\\'ll be shame to see it finalized in this manner.  Rest I pretty much loved as usual in Gintama franchise.                  Helpful          '"
            ]
          },
          "execution_count": 38,
          "metadata": {},
          "output_type": "execute_result"
        }
      ],
      "source": [
        "df['cleanText'][0]"
      ]
    },
    {
      "cell_type": "markdown",
      "metadata": {
        "id": "UM3pzfrbh41Y"
      },
      "source": [
        "# Sentiment Analysis"
      ]
    },
    {
      "cell_type": "code",
      "execution_count": null,
      "metadata": {
        "execution": {
          "iopub.execute_input": "2023-01-13T09:17:14.498894Z",
          "iopub.status.busy": "2023-01-13T09:17:14.498237Z",
          "iopub.status.idle": "2023-01-13T09:17:14.666276Z",
          "shell.execute_reply": "2023-01-13T09:17:14.665019Z",
          "shell.execute_reply.started": "2023-01-13T09:17:14.498858Z"
        },
        "id": "Y_m_PjsCh41Z",
        "outputId": "6b48833a-5ff1-430e-d4f3-dd3c55de4cc9"
      },
      "outputs": [
        {
          "name": "stderr",
          "output_type": "stream",
          "text": [
            "[nltk_data] Downloading package vader_lexicon to\n",
            "[nltk_data]     C:\\Users\\Admin\\AppData\\Roaming\\nltk_data...\n",
            "[nltk_data]   Package vader_lexicon is already up-to-date!\n"
          ]
        },
        {
          "data": {
            "text/plain": [
              "True"
            ]
          },
          "execution_count": 39,
          "metadata": {},
          "output_type": "execute_result"
        }
      ],
      "source": [
        "import nltk\n",
        "from nltk.sentiment.vader import SentimentIntensityAnalyzer\n",
        "nltk.download(\"vader_lexicon\")"
      ]
    },
    {
      "cell_type": "code",
      "execution_count": null,
      "metadata": {
        "execution": {
          "iopub.execute_input": "2023-01-13T09:17:17.837080Z",
          "iopub.status.busy": "2023-01-13T09:17:17.836613Z",
          "iopub.status.idle": "2023-01-13T09:18:53.765952Z",
          "shell.execute_reply": "2023-01-13T09:18:53.764477Z",
          "shell.execute_reply.started": "2023-01-13T09:17:17.837044Z"
        },
        "id": "RPmQRMbQh41Z",
        "outputId": "c1e76ecb-343d-413f-8648-c5b9c75d605c"
      },
      "outputs": [
        {
          "data": {
            "text/html": [
              "<div>\n",
              "<style scoped>\n",
              "    .dataframe tbody tr th:only-of-type {\n",
              "        vertical-align: middle;\n",
              "    }\n",
              "\n",
              "    .dataframe tbody tr th {\n",
              "        vertical-align: top;\n",
              "    }\n",
              "\n",
              "    .dataframe thead th {\n",
              "        text-align: right;\n",
              "    }\n",
              "</style>\n",
              "<table border=\"1\" class=\"dataframe\">\n",
              "  <thead>\n",
              "    <tr style=\"text-align: right;\">\n",
              "      <th></th>\n",
              "      <th>uid</th>\n",
              "      <th>profile</th>\n",
              "      <th>anime_uid</th>\n",
              "      <th>text</th>\n",
              "      <th>score</th>\n",
              "      <th>scores</th>\n",
              "      <th>link</th>\n",
              "      <th>cleanText</th>\n",
              "      <th>Positive</th>\n",
              "      <th>Negative</th>\n",
              "      <th>Neutral</th>\n",
              "      <th>Compound</th>\n",
              "    </tr>\n",
              "  </thead>\n",
              "  <tbody>\n",
              "    <tr>\n",
              "      <th>0</th>\n",
              "      <td>255938</td>\n",
              "      <td>DesolatePsyche</td>\n",
              "      <td>34096</td>\n",
              "      <td>\\n           \\n         \\n           \\n       ...</td>\n",
              "      <td>8</td>\n",
              "      <td>{'Overall': '8', 'Story': '8', 'Animation': '8...</td>\n",
              "      <td>https://myanimelist.net/reviews.php?id=255938</td>\n",
              "      <td>...</td>\n",
              "      <td>0.218</td>\n",
              "      <td>0.096</td>\n",
              "      <td>0.686</td>\n",
              "      <td>0.9984</td>\n",
              "    </tr>\n",
              "    <tr>\n",
              "      <th>1</th>\n",
              "      <td>259117</td>\n",
              "      <td>baekbeans</td>\n",
              "      <td>34599</td>\n",
              "      <td>\\n           \\n         \\n           \\n       ...</td>\n",
              "      <td>10</td>\n",
              "      <td>{'Overall': '10', 'Story': '10', 'Animation': ...</td>\n",
              "      <td>https://myanimelist.net/reviews.php?id=259117</td>\n",
              "      <td>...</td>\n",
              "      <td>0.192</td>\n",
              "      <td>0.083</td>\n",
              "      <td>0.725</td>\n",
              "      <td>0.9989</td>\n",
              "    </tr>\n",
              "    <tr>\n",
              "      <th>2</th>\n",
              "      <td>253664</td>\n",
              "      <td>skrn</td>\n",
              "      <td>28891</td>\n",
              "      <td>\\n           \\n         \\n           \\n       ...</td>\n",
              "      <td>7</td>\n",
              "      <td>{'Overall': '7', 'Story': '7', 'Animation': '9...</td>\n",
              "      <td>https://myanimelist.net/reviews.php?id=253664</td>\n",
              "      <td>...</td>\n",
              "      <td>0.200</td>\n",
              "      <td>0.050</td>\n",
              "      <td>0.749</td>\n",
              "      <td>0.9871</td>\n",
              "    </tr>\n",
              "    <tr>\n",
              "      <th>3</th>\n",
              "      <td>8254</td>\n",
              "      <td>edgewalker00</td>\n",
              "      <td>2904</td>\n",
              "      <td>\\n           \\n         \\n           \\n       ...</td>\n",
              "      <td>9</td>\n",
              "      <td>{'Overall': '9', 'Story': '9', 'Animation': '9...</td>\n",
              "      <td>https://myanimelist.net/reviews.php?id=8254</td>\n",
              "      <td>...</td>\n",
              "      <td>0.137</td>\n",
              "      <td>0.086</td>\n",
              "      <td>0.777</td>\n",
              "      <td>0.9965</td>\n",
              "    </tr>\n",
              "    <tr>\n",
              "      <th>4</th>\n",
              "      <td>291149</td>\n",
              "      <td>aManOfCulture99</td>\n",
              "      <td>4181</td>\n",
              "      <td>\\n           \\n         \\n           \\n       ...</td>\n",
              "      <td>10</td>\n",
              "      <td>{'Overall': '10', 'Story': '10', 'Animation': ...</td>\n",
              "      <td>https://myanimelist.net/reviews.php?id=291149</td>\n",
              "      <td>...</td>\n",
              "      <td>0.220</td>\n",
              "      <td>0.056</td>\n",
              "      <td>0.724</td>\n",
              "      <td>0.9965</td>\n",
              "    </tr>\n",
              "  </tbody>\n",
              "</table>\n",
              "</div>"
            ],
            "text/plain": [
              "      uid          profile  anime_uid  \\\n",
              "0  255938   DesolatePsyche      34096   \n",
              "1  259117        baekbeans      34599   \n",
              "2  253664             skrn      28891   \n",
              "3    8254     edgewalker00       2904   \n",
              "4  291149  aManOfCulture99       4181   \n",
              "\n",
              "                                                text  score  \\\n",
              "0  \\n           \\n         \\n           \\n       ...      8   \n",
              "1  \\n           \\n         \\n           \\n       ...     10   \n",
              "2  \\n           \\n         \\n           \\n       ...      7   \n",
              "3  \\n           \\n         \\n           \\n       ...      9   \n",
              "4  \\n           \\n         \\n           \\n       ...     10   \n",
              "\n",
              "                                              scores  \\\n",
              "0  {'Overall': '8', 'Story': '8', 'Animation': '8...   \n",
              "1  {'Overall': '10', 'Story': '10', 'Animation': ...   \n",
              "2  {'Overall': '7', 'Story': '7', 'Animation': '9...   \n",
              "3  {'Overall': '9', 'Story': '9', 'Animation': '9...   \n",
              "4  {'Overall': '10', 'Story': '10', 'Animation': ...   \n",
              "\n",
              "                                            link  \\\n",
              "0  https://myanimelist.net/reviews.php?id=255938   \n",
              "1  https://myanimelist.net/reviews.php?id=259117   \n",
              "2  https://myanimelist.net/reviews.php?id=253664   \n",
              "3    https://myanimelist.net/reviews.php?id=8254   \n",
              "4  https://myanimelist.net/reviews.php?id=291149   \n",
              "\n",
              "                                           cleanText  Positive  Negative  \\\n",
              "0                                                ...     0.218     0.096   \n",
              "1                                                ...     0.192     0.083   \n",
              "2                                                ...     0.200     0.050   \n",
              "3                                                ...     0.137     0.086   \n",
              "4                                                ...     0.220     0.056   \n",
              "\n",
              "   Neutral  Compound  \n",
              "0    0.686    0.9984  \n",
              "1    0.725    0.9989  \n",
              "2    0.749    0.9871  \n",
              "3    0.777    0.9965  \n",
              "4    0.724    0.9965  "
            ]
          },
          "execution_count": 40,
          "metadata": {},
          "output_type": "execute_result"
        }
      ],
      "source": [
        "sentiments = SentimentIntensityAnalyzer()\n",
        "\n",
        "df[\"Positive\"] = [sentiments.polarity_scores(i)[\"pos\"] for i in df[\"cleanText\"]]\n",
        "df[\"Negative\"] = [sentiments.polarity_scores(i)[\"neg\"] for i in df[\"cleanText\"]]\n",
        "df[\"Neutral\"] = [sentiments.polarity_scores(i)[\"neu\"] for i in df[\"cleanText\"]]\n",
        "df['Compound'] = [sentiments.polarity_scores(i)[\"compound\"] for i in df[\"cleanText\"]]\n",
        "df.head()"
      ]
    },
    {
      "cell_type": "code",
      "execution_count": null,
      "metadata": {
        "execution": {
          "iopub.execute_input": "2023-01-13T09:18:59.220059Z",
          "iopub.status.busy": "2023-01-13T09:18:59.219590Z",
          "iopub.status.idle": "2023-01-13T09:18:59.247115Z",
          "shell.execute_reply": "2023-01-13T09:18:59.245805Z",
          "shell.execute_reply.started": "2023-01-13T09:18:59.220019Z"
        },
        "id": "bXctUPWHh41Z",
        "outputId": "c22477f8-3ced-4fd6-8f8d-34fe038eb91f"
      },
      "outputs": [
        {
          "data": {
            "text/html": [
              "<div>\n",
              "<style scoped>\n",
              "    .dataframe tbody tr th:only-of-type {\n",
              "        vertical-align: middle;\n",
              "    }\n",
              "\n",
              "    .dataframe tbody tr th {\n",
              "        vertical-align: top;\n",
              "    }\n",
              "\n",
              "    .dataframe thead th {\n",
              "        text-align: right;\n",
              "    }\n",
              "</style>\n",
              "<table border=\"1\" class=\"dataframe\">\n",
              "  <thead>\n",
              "    <tr style=\"text-align: right;\">\n",
              "      <th></th>\n",
              "      <th>uid</th>\n",
              "      <th>profile</th>\n",
              "      <th>anime_uid</th>\n",
              "      <th>text</th>\n",
              "      <th>score</th>\n",
              "      <th>scores</th>\n",
              "      <th>link</th>\n",
              "      <th>cleanText</th>\n",
              "      <th>Positive</th>\n",
              "      <th>Negative</th>\n",
              "      <th>Neutral</th>\n",
              "      <th>Compound</th>\n",
              "      <th>Sentiment</th>\n",
              "    </tr>\n",
              "  </thead>\n",
              "  <tbody>\n",
              "    <tr>\n",
              "      <th>0</th>\n",
              "      <td>255938</td>\n",
              "      <td>DesolatePsyche</td>\n",
              "      <td>34096</td>\n",
              "      <td>\\n           \\n         \\n           \\n       ...</td>\n",
              "      <td>8</td>\n",
              "      <td>{'Overall': '8', 'Story': '8', 'Animation': '8...</td>\n",
              "      <td>https://myanimelist.net/reviews.php?id=255938</td>\n",
              "      <td>...</td>\n",
              "      <td>0.218</td>\n",
              "      <td>0.096</td>\n",
              "      <td>0.686</td>\n",
              "      <td>0.9984</td>\n",
              "      <td>Positive</td>\n",
              "    </tr>\n",
              "    <tr>\n",
              "      <th>1</th>\n",
              "      <td>259117</td>\n",
              "      <td>baekbeans</td>\n",
              "      <td>34599</td>\n",
              "      <td>\\n           \\n         \\n           \\n       ...</td>\n",
              "      <td>10</td>\n",
              "      <td>{'Overall': '10', 'Story': '10', 'Animation': ...</td>\n",
              "      <td>https://myanimelist.net/reviews.php?id=259117</td>\n",
              "      <td>...</td>\n",
              "      <td>0.192</td>\n",
              "      <td>0.083</td>\n",
              "      <td>0.725</td>\n",
              "      <td>0.9989</td>\n",
              "      <td>Positive</td>\n",
              "    </tr>\n",
              "    <tr>\n",
              "      <th>2</th>\n",
              "      <td>253664</td>\n",
              "      <td>skrn</td>\n",
              "      <td>28891</td>\n",
              "      <td>\\n           \\n         \\n           \\n       ...</td>\n",
              "      <td>7</td>\n",
              "      <td>{'Overall': '7', 'Story': '7', 'Animation': '9...</td>\n",
              "      <td>https://myanimelist.net/reviews.php?id=253664</td>\n",
              "      <td>...</td>\n",
              "      <td>0.200</td>\n",
              "      <td>0.050</td>\n",
              "      <td>0.749</td>\n",
              "      <td>0.9871</td>\n",
              "      <td>Positive</td>\n",
              "    </tr>\n",
              "    <tr>\n",
              "      <th>3</th>\n",
              "      <td>8254</td>\n",
              "      <td>edgewalker00</td>\n",
              "      <td>2904</td>\n",
              "      <td>\\n           \\n         \\n           \\n       ...</td>\n",
              "      <td>9</td>\n",
              "      <td>{'Overall': '9', 'Story': '9', 'Animation': '9...</td>\n",
              "      <td>https://myanimelist.net/reviews.php?id=8254</td>\n",
              "      <td>...</td>\n",
              "      <td>0.137</td>\n",
              "      <td>0.086</td>\n",
              "      <td>0.777</td>\n",
              "      <td>0.9965</td>\n",
              "      <td>Positive</td>\n",
              "    </tr>\n",
              "    <tr>\n",
              "      <th>4</th>\n",
              "      <td>291149</td>\n",
              "      <td>aManOfCulture99</td>\n",
              "      <td>4181</td>\n",
              "      <td>\\n           \\n         \\n           \\n       ...</td>\n",
              "      <td>10</td>\n",
              "      <td>{'Overall': '10', 'Story': '10', 'Animation': ...</td>\n",
              "      <td>https://myanimelist.net/reviews.php?id=291149</td>\n",
              "      <td>...</td>\n",
              "      <td>0.220</td>\n",
              "      <td>0.056</td>\n",
              "      <td>0.724</td>\n",
              "      <td>0.9965</td>\n",
              "      <td>Positive</td>\n",
              "    </tr>\n",
              "  </tbody>\n",
              "</table>\n",
              "</div>"
            ],
            "text/plain": [
              "      uid          profile  anime_uid  \\\n",
              "0  255938   DesolatePsyche      34096   \n",
              "1  259117        baekbeans      34599   \n",
              "2  253664             skrn      28891   \n",
              "3    8254     edgewalker00       2904   \n",
              "4  291149  aManOfCulture99       4181   \n",
              "\n",
              "                                                text  score  \\\n",
              "0  \\n           \\n         \\n           \\n       ...      8   \n",
              "1  \\n           \\n         \\n           \\n       ...     10   \n",
              "2  \\n           \\n         \\n           \\n       ...      7   \n",
              "3  \\n           \\n         \\n           \\n       ...      9   \n",
              "4  \\n           \\n         \\n           \\n       ...     10   \n",
              "\n",
              "                                              scores  \\\n",
              "0  {'Overall': '8', 'Story': '8', 'Animation': '8...   \n",
              "1  {'Overall': '10', 'Story': '10', 'Animation': ...   \n",
              "2  {'Overall': '7', 'Story': '7', 'Animation': '9...   \n",
              "3  {'Overall': '9', 'Story': '9', 'Animation': '9...   \n",
              "4  {'Overall': '10', 'Story': '10', 'Animation': ...   \n",
              "\n",
              "                                            link  \\\n",
              "0  https://myanimelist.net/reviews.php?id=255938   \n",
              "1  https://myanimelist.net/reviews.php?id=259117   \n",
              "2  https://myanimelist.net/reviews.php?id=253664   \n",
              "3    https://myanimelist.net/reviews.php?id=8254   \n",
              "4  https://myanimelist.net/reviews.php?id=291149   \n",
              "\n",
              "                                           cleanText  Positive  Negative  \\\n",
              "0                                                ...     0.218     0.096   \n",
              "1                                                ...     0.192     0.083   \n",
              "2                                                ...     0.200     0.050   \n",
              "3                                                ...     0.137     0.086   \n",
              "4                                                ...     0.220     0.056   \n",
              "\n",
              "   Neutral  Compound Sentiment  \n",
              "0    0.686    0.9984  Positive  \n",
              "1    0.725    0.9989  Positive  \n",
              "2    0.749    0.9871  Positive  \n",
              "3    0.777    0.9965  Positive  \n",
              "4    0.724    0.9965  Positive  "
            ]
          },
          "execution_count": 41,
          "metadata": {},
          "output_type": "execute_result"
        }
      ],
      "source": [
        "score = df[\"Compound\"].values\n",
        "sentiment = []\n",
        "for i in score:\n",
        "    if i >= 0.05 :\n",
        "        sentiment.append('Positive')\n",
        "    elif i <= -0.05 :\n",
        "        sentiment.append('Negative')\n",
        "    else:\n",
        "        sentiment.append('Neutral')\n",
        "df[\"Sentiment\"] = sentiment\n",
        "df.head()"
      ]
    },
    {
      "cell_type": "code",
      "execution_count": null,
      "metadata": {
        "execution": {
          "iopub.execute_input": "2023-01-13T09:19:03.135572Z",
          "iopub.status.busy": "2023-01-13T09:19:03.135123Z",
          "iopub.status.idle": "2023-01-13T09:19:03.146769Z",
          "shell.execute_reply": "2023-01-13T09:19:03.145388Z",
          "shell.execute_reply.started": "2023-01-13T09:19:03.135536Z"
        },
        "id": "EktIix5yh41a",
        "outputId": "9844361a-86b9-4b0e-e864-bc6188cf83ea"
      },
      "outputs": [
        {
          "data": {
            "text/plain": [
              "Positive    2793\n",
              "Negative     206\n",
              "Neutral        2\n",
              "Name: Sentiment, dtype: int64"
            ]
          },
          "execution_count": 42,
          "metadata": {},
          "output_type": "execute_result"
        }
      ],
      "source": [
        "df[\"Sentiment\"].value_counts()"
      ]
    },
    {
      "cell_type": "code",
      "execution_count": null,
      "metadata": {
        "execution": {
          "iopub.execute_input": "2023-01-12T09:11:51.270753Z",
          "iopub.status.busy": "2023-01-12T09:11:51.270057Z",
          "iopub.status.idle": "2023-01-12T09:11:51.764058Z",
          "shell.execute_reply": "2023-01-12T09:11:51.762817Z",
          "shell.execute_reply.started": "2023-01-12T09:11:51.270700Z"
        },
        "id": "QURJpsFoh41a"
      },
      "outputs": [],
      "source": [
        "df.to_csv(\"reviews_animes_labels.csv\")"
      ]
    },
    {
      "cell_type": "markdown",
      "metadata": {
        "id": "8NziWunrh41a"
      },
      "source": [
        "# Train Test Split & Bootstrapping"
      ]
    },
    {
      "cell_type": "code",
      "execution_count": null,
      "metadata": {
        "execution": {
          "iopub.execute_input": "2023-01-13T09:19:12.592109Z",
          "iopub.status.busy": "2023-01-13T09:19:12.590720Z",
          "iopub.status.idle": "2023-01-13T09:19:12.615744Z",
          "shell.execute_reply": "2023-01-13T09:19:12.614258Z",
          "shell.execute_reply.started": "2023-01-13T09:19:12.592057Z"
        },
        "id": "4qBrM08-h41a"
      },
      "outputs": [],
      "source": [
        "from sklearn.model_selection import train_test_split\n",
        "train, test = train_test_split(df, test_size=0.3, random_state=1)\n",
        "\n",
        "t_1 = train[train['Sentiment']=='Neutral'].sample(800,replace=True)\n",
        "t_2 = train[train['Sentiment']=='Positive'].sample(800,replace=True)\n",
        "t_3 = train[train['Sentiment']=='Negative'].sample(800,replace=True)\n",
        "training_bs = pd.concat([t_1, t_2, t_3])"
      ]
    },
    {
      "cell_type": "code",
      "execution_count": null,
      "metadata": {
        "execution": {
          "iopub.execute_input": "2023-01-13T09:19:16.157626Z",
          "iopub.status.busy": "2023-01-13T09:19:16.157154Z",
          "iopub.status.idle": "2023-01-13T09:19:16.164123Z",
          "shell.execute_reply": "2023-01-13T09:19:16.163045Z",
          "shell.execute_reply.started": "2023-01-13T09:19:16.157586Z"
        },
        "id": "IhnbkFw9h41b",
        "outputId": "64a213ea-8328-41c6-b419-0e797c2c628a"
      },
      "outputs": [
        {
          "name": "stdout",
          "output_type": "stream",
          "text": [
            "(2100, 13)\n",
            "(2400, 13)\n",
            "(901, 13)\n"
          ]
        }
      ],
      "source": [
        "print(train.shape)\n",
        "print(training_bs.shape)\n",
        "print(test.shape)"
      ]
    },
    {
      "cell_type": "code",
      "execution_count": null,
      "metadata": {
        "execution": {
          "iopub.execute_input": "2023-01-13T09:19:21.496327Z",
          "iopub.status.busy": "2023-01-13T09:19:21.495877Z",
          "iopub.status.idle": "2023-01-13T09:19:21.506218Z",
          "shell.execute_reply": "2023-01-13T09:19:21.504854Z",
          "shell.execute_reply.started": "2023-01-13T09:19:21.496286Z"
        },
        "id": "dIqUCyyCh41b",
        "outputId": "ec66c2ac-1a75-44cb-a02e-78aef9a5dbea"
      },
      "outputs": [
        {
          "data": {
            "text/plain": [
              "Positive    1957\n",
              "Negative     142\n",
              "Neutral        1\n",
              "Name: Sentiment, dtype: int64"
            ]
          },
          "execution_count": 46,
          "metadata": {},
          "output_type": "execute_result"
        }
      ],
      "source": [
        "train['Sentiment'].value_counts()"
      ]
    },
    {
      "cell_type": "code",
      "execution_count": null,
      "metadata": {
        "execution": {
          "iopub.execute_input": "2023-01-13T09:19:22.959163Z",
          "iopub.status.busy": "2023-01-13T09:19:22.958703Z",
          "iopub.status.idle": "2023-01-13T09:19:22.969525Z",
          "shell.execute_reply": "2023-01-13T09:19:22.968014Z",
          "shell.execute_reply.started": "2023-01-13T09:19:22.959126Z"
        },
        "id": "vgBa_74Eh41b",
        "outputId": "1b2c8dc9-7a01-495c-e322-afc20e08338e"
      },
      "outputs": [
        {
          "data": {
            "text/plain": [
              "Positive    836\n",
              "Negative     64\n",
              "Neutral       1\n",
              "Name: Sentiment, dtype: int64"
            ]
          },
          "execution_count": 47,
          "metadata": {},
          "output_type": "execute_result"
        }
      ],
      "source": [
        "test['Sentiment'].value_counts()"
      ]
    },
    {
      "cell_type": "code",
      "execution_count": null,
      "metadata": {
        "execution": {
          "iopub.execute_input": "2023-01-13T09:19:31.099179Z",
          "iopub.status.busy": "2023-01-13T09:19:31.098695Z",
          "iopub.status.idle": "2023-01-13T09:19:31.107077Z",
          "shell.execute_reply": "2023-01-13T09:19:31.105947Z",
          "shell.execute_reply.started": "2023-01-13T09:19:31.099136Z"
        },
        "id": "SQyRpq1Eh41b",
        "outputId": "7cdb3cfd-4887-45b1-9f7e-d1e8e61692bb"
      },
      "outputs": [
        {
          "data": {
            "text/plain": [
              "True"
            ]
          },
          "execution_count": 48,
          "metadata": {},
          "output_type": "execute_result"
        }
      ],
      "source": [
        "df.shape[0] == (train.shape[0] + test.shape[0])"
      ]
    },
    {
      "cell_type": "code",
      "execution_count": null,
      "metadata": {
        "execution": {
          "iopub.execute_input": "2023-01-13T09:19:33.293780Z",
          "iopub.status.busy": "2023-01-13T09:19:33.293261Z",
          "iopub.status.idle": "2023-01-13T09:19:33.303277Z",
          "shell.execute_reply": "2023-01-13T09:19:33.301851Z",
          "shell.execute_reply.started": "2023-01-13T09:19:33.293737Z"
        },
        "id": "j_s4fbBgh41b",
        "outputId": "194d3d42-26ca-4e20-bb01-638b7916739a"
      },
      "outputs": [
        {
          "name": "stdout",
          "output_type": "stream",
          "text": [
            "Positive    0.931905\n",
            "Negative    0.067619\n",
            "Neutral     0.000476\n",
            "Name: Sentiment, dtype: float64\n"
          ]
        }
      ],
      "source": [
        "print(train['Sentiment'].value_counts(normalize=True))\n",
        "baseline = 0.3"
      ]
    },
    {
      "cell_type": "code",
      "execution_count": null,
      "metadata": {
        "execution": {
          "iopub.execute_input": "2023-01-13T09:19:37.908493Z",
          "iopub.status.busy": "2023-01-13T09:19:37.908063Z",
          "iopub.status.idle": "2023-01-13T09:19:37.917449Z",
          "shell.execute_reply": "2023-01-13T09:19:37.916332Z",
          "shell.execute_reply.started": "2023-01-13T09:19:37.908459Z"
        },
        "id": "wvMDRZYsh41c",
        "outputId": "99077965-7bbf-4397-efa1-d2af16993844"
      },
      "outputs": [
        {
          "name": "stdout",
          "output_type": "stream",
          "text": [
            "Neutral     0.333333\n",
            "Positive    0.333333\n",
            "Negative    0.333333\n",
            "Name: Sentiment, dtype: float64\n"
          ]
        }
      ],
      "source": [
        "print (training_bs['Sentiment'].value_counts(normalize=True))\n",
        "baseline = 0.3"
      ]
    },
    {
      "cell_type": "code",
      "execution_count": null,
      "metadata": {
        "execution": {
          "iopub.execute_input": "2023-01-12T09:11:51.871119Z",
          "iopub.status.busy": "2023-01-12T09:11:51.870754Z",
          "iopub.status.idle": "2023-01-12T09:11:52.343730Z",
          "shell.execute_reply": "2023-01-12T09:11:52.342549Z",
          "shell.execute_reply.started": "2023-01-12T09:11:51.871087Z"
        },
        "id": "2KgInvfnh41c"
      },
      "outputs": [],
      "source": [
        "train = training_bs.reset_index(drop=True)\n",
        "train.to_csv('train.csv', header=True, index=False, encoding='UTF8')\n",
        "training_bs = training_bs.reset_index(drop=True)\n",
        "training_bs.to_csv('training_bs.csv', header=True, index=False, encoding='UTF8')\n",
        "test = test.reset_index(drop=True)\n",
        "test.to_csv('testing.csv', header=True, index=False, encoding='UTF8')"
      ]
    },
    {
      "cell_type": "code",
      "execution_count": null,
      "metadata": {
        "execution": {
          "iopub.execute_input": "2023-01-13T09:19:45.713210Z",
          "iopub.status.busy": "2023-01-13T09:19:45.712806Z",
          "iopub.status.idle": "2023-01-13T09:19:45.964164Z",
          "shell.execute_reply": "2023-01-13T09:19:45.962854Z",
          "shell.execute_reply.started": "2023-01-13T09:19:45.713174Z"
        },
        "id": "gTwe1duyh41c"
      },
      "outputs": [],
      "source": [
        "training_bs = pd.read_csv('training_bs.csv')\n",
        "test = pd.read_csv('testing.csv')"
      ]
    },
    {
      "cell_type": "code",
      "execution_count": null,
      "metadata": {
        "execution": {
          "iopub.execute_input": "2023-01-13T09:19:53.134937Z",
          "iopub.status.busy": "2023-01-13T09:19:53.134218Z",
          "iopub.status.idle": "2023-01-13T09:19:53.147864Z",
          "shell.execute_reply": "2023-01-13T09:19:53.146225Z",
          "shell.execute_reply.started": "2023-01-13T09:19:53.134897Z"
        },
        "id": "OHRmiRL1h41c"
      },
      "outputs": [],
      "source": [
        "# Define Class Integer Values\n",
        "cleanup_nums = {\"Sentiment\": {\"Negative\": 1, \"Neutral\": 2, \"Positive\": 3}}\n",
        "\n",
        "# Replace the Classes with Integer Values\n",
        "training_bs.replace(cleanup_nums, inplace=True)\n",
        "\n",
        "# Clean the Test Data\n",
        "test.replace(cleanup_nums, inplace=True)"
      ]
    },
    {
      "cell_type": "code",
      "execution_count": null,
      "metadata": {
        "execution": {
          "iopub.execute_input": "2023-01-13T09:19:55.688043Z",
          "iopub.status.busy": "2023-01-13T09:19:55.686902Z",
          "iopub.status.idle": "2023-01-13T09:19:55.694646Z",
          "shell.execute_reply": "2023-01-13T09:19:55.693308Z",
          "shell.execute_reply.started": "2023-01-13T09:19:55.687989Z"
        },
        "id": "GH7rzksyh41c"
      },
      "outputs": [],
      "source": [
        "import seaborn as sns"
      ]
    },
    {
      "cell_type": "code",
      "execution_count": null,
      "metadata": {
        "execution": {
          "iopub.execute_input": "2023-01-13T09:20:00.170216Z",
          "iopub.status.busy": "2023-01-13T09:20:00.169729Z",
          "iopub.status.idle": "2023-01-13T09:20:00.519400Z",
          "shell.execute_reply": "2023-01-13T09:20:00.518191Z",
          "shell.execute_reply.started": "2023-01-13T09:20:00.170179Z"
        },
        "id": "I2mM3vm_h41c",
        "outputId": "77231204-ac29-4977-d520-a66ce6cebd99"
      },
      "outputs": [
        {
          "data": {
            "text/plain": [
              "Text(0, 0.5, 'Labels')"
            ]
          },
          "execution_count": 55,
          "metadata": {},
          "output_type": "execute_result"
        },
        {
          "data": {
            "image/png": "[encoded data removed]",
            "text/plain": [
              "<Figure size 640x480 with 1 Axes>"
            ]
          },
          "metadata": {},
          "output_type": "display_data"
        }
      ],
      "source": [
        "sns.set_theme(style=\"whitegrid\")\n",
        "ax = training_bs['Sentiment'].value_counts(sort=False).plot(kind='barh', color='b')\n",
        "ax.set_xlabel('Count')\n",
        "ax.set_ylabel('Labels')"
      ]
    },
    {
      "cell_type": "code",
      "execution_count": null,
      "metadata": {
        "execution": {
          "iopub.execute_input": "2023-01-13T09:20:01.252396Z",
          "iopub.status.busy": "2023-01-13T09:20:01.251962Z",
          "iopub.status.idle": "2023-01-13T09:20:01.549702Z",
          "shell.execute_reply": "2023-01-13T09:20:01.547939Z",
          "shell.execute_reply.started": "2023-01-13T09:20:01.252359Z"
        },
        "id": "1E_xbfRyh41d",
        "outputId": "4e1b0c3d-7117-48de-95b4-c9f47290dcf7"
      },
      "outputs": [
        {
          "data": {
            "text/plain": [
              "Text(0, 0.5, 'Labels')"
            ]
          },
          "execution_count": 56,
          "metadata": {},
          "output_type": "execute_result"
        },
        {
          "data": {
            "image/png": "[encoded data removed]",
            "text/plain": [
              "<Figure size 640x480 with 1 Axes>"
            ]
          },
          "metadata": {},
          "output_type": "display_data"
        }
      ],
      "source": [
        "sns.set_theme(style=\"whitegrid\")\n",
        "ax = train['Sentiment'].value_counts(sort=False).plot(kind='barh', color='b')\n",
        "ax.set_xlabel('Count')\n",
        "ax.set_ylabel('Labels')"
      ]
    },
    {
      "cell_type": "markdown",
      "metadata": {
        "id": "spr3ArTEh41d"
      },
      "source": [
        "# Naive Bayes model"
      ]
    },
    {
      "cell_type": "code",
      "execution_count": null,
      "metadata": {
        "execution": {
          "iopub.execute_input": "2023-01-13T09:20:18.675560Z",
          "iopub.status.busy": "2023-01-13T09:20:18.675128Z",
          "iopub.status.idle": "2023-01-13T09:20:19.606348Z",
          "shell.execute_reply": "2023-01-13T09:20:19.604891Z",
          "shell.execute_reply.started": "2023-01-13T09:20:18.675523Z"
        },
        "id": "uAEbWw-0h41d"
      },
      "outputs": [],
      "source": [
        "from sklearn.pipeline import Pipeline\n",
        "from sklearn.feature_extraction.text import CountVectorizer, TfidfTransformer\n",
        "from sklearn.naive_bayes import MultinomialNB\n",
        "\n",
        "# Create a pipeline which transforms phrases into normalized feature vectors and uses a bayes estimator\n",
        "model_name = 'bayes classifier'\n",
        "\n",
        "pipeline_bayes = Pipeline([\n",
        "                ('count', CountVectorizer()),\n",
        "                ('tfidf', TfidfTransformer()),\n",
        "                ('gnb', MultinomialNB()),\n",
        "                ])\n",
        "\n",
        "# Train model using the created sklearn pipeline\n",
        "model_bayes = pipeline_bayes.fit(training_bs['cleanText'], training_bs['Sentiment'])"
      ]
    },
    {
      "cell_type": "code",
      "execution_count": null,
      "metadata": {
        "execution": {
          "iopub.execute_input": "2023-01-13T09:20:23.105090Z",
          "iopub.status.busy": "2023-01-13T09:20:23.104635Z",
          "iopub.status.idle": "2023-01-13T09:20:23.120927Z",
          "shell.execute_reply": "2023-01-13T09:20:23.119541Z",
          "shell.execute_reply.started": "2023-01-13T09:20:23.105055Z"
        },
        "id": "5-iiOW3Eh41d",
        "outputId": "dd3dbf32-5a24-43f7-add5-55ec4ef555a9"
      },
      "outputs": [
        {
          "name": "stdout",
          "output_type": "stream",
          "text": [
            "Mondays just suck!-> Neutral\n",
            "I love this product-> Positive\n",
            "That is a tree-> Negative\n",
            "Terrible service-> Negative\n"
          ]
        }
      ],
      "source": [
        "testphrases = ['Mondays just suck!', 'I love this product', 'That is a tree', 'Terrible service']\n",
        "for testphrase in testphrases:\n",
        "    resultx = model_bayes.predict([testphrase]) # use model_bayes for predictions with the other model\n",
        "    dict = {1: 'Negative', 2: 'Neutral', 3: 'Positive'}\n",
        "    print(testphrase + '-> ' + dict[resultx[0]])"
      ]
    },
    {
      "cell_type": "code",
      "execution_count": null,
      "metadata": {
        "execution": {
          "iopub.execute_input": "2023-01-13T09:20:27.588544Z",
          "iopub.status.busy": "2023-01-13T09:20:27.588073Z",
          "iopub.status.idle": "2023-01-13T09:20:27.601299Z",
          "shell.execute_reply": "2023-01-13T09:20:27.599761Z",
          "shell.execute_reply.started": "2023-01-13T09:20:27.588502Z"
        },
        "id": "pqJBCotoh41d",
        "outputId": "b454e8c7-4ef1-4655-fffb-fb27d111e15b"
      },
      "outputs": [
        {
          "name": "stdout",
          "output_type": "stream",
          "text": [
            "Positive\n"
          ]
        }
      ],
      "source": [
        "dict = {1: 'Negative', 2: 'Neutral', 3: 'Positive'}\n",
        "testphrase = \"Anyhow. What I have always loved regarding Gintama, is its content of everything. I love the comedy, its absurd, random, can be vile, dirty, sweet, anyhow, everything. Have laughed countless times in this franchise. Also the humor they have also is heavily reference based, a.k.a parodies of different anime, shows, manga, live stuff, real world, anime production and so on. Anyhow, comedy/parody side of this franchise i absolutely love.  Now, 2nd side of this show is the serious dramas, epic battle shounens and so on.. There are arcs that are fully comedy, arcs that are fully serious and mixtures of both. Serious side is usually quite dramatic and managed to somewhat tear me up now and then. Whilst the action sequences are absolute bliss as well. They are just presented in a really cool manner. And extra points when sometime the add artistic element.  Of course it has its slice-of-life side and pseudo-romance. Those are weaker side, but ain't the focus. But when sometimes those are the 'focus', then they are done in enjoyable method.  To sum up overall gintama's, I love the serious side and the silly side.  Art and sound  is something I loved in all gintamas across the board. They just click with me, bliss to look at, bliss to hear. Music  specifically are hyped up and upbeat, which generally I don't like, but gintama is the exception where I love them. Art is cool, sometimes artistic, sometimes simple. It has a bit of everything that makes it enjoyable. And gore is absolutely satisfying as well.   Well, the serious side of stories in this anime are superb in my opinion. . But wouldn't say comedic side of series story is any worse.  When at times comedy side has 'story'. It's usually quite enjoyable.  Regarding characters I don't have much to say other than that variety, stereotypes of 'off-stereotypes' is very large. As well characters with depth but as well with oddity is as well in great selection. Main team. Gintoki the lazy dirty slob with superb second side of seriousness and caring about friends/allies. Shinpachi the poor straight-man-act sidekick, who adds great value to the team. Kagura, the battle race girl that doesn't act like girl almost at all, or in another words a dirty slob girl in a sense. -----------------  Now, to this season specific.  I found it a bit disappointing. Mainly because usually in gintama we have overly serious arcs or fully comedic, whilst this one had a bit of mixture of both, which somewhat ruined the experience. Plus the artistic presentation felt this time around a bit lacking. Maybe because of another studio, who knows. But anyhow, it didn't feel as superb. Rather than gintama it felt as watching just another good battle shounen anime in modern day with simplified animation.  I mean it definitely was not any bad, just didn't have the punch Gintama usually has. Might be because it was short series, maybe because it focused too much moving on with story. It'll be shame to see it finalized in this manner.  Rest I pretty much loved as usual in Gintama franchise.\"\n",
        "r = model_bayes.predict([testphrase])\n",
        "print(dict[r[0]])"
      ]
    },
    {
      "cell_type": "markdown",
      "metadata": {
        "id": "2HfQ8wlch41d"
      },
      "source": [
        "# Logistic Regression"
      ]
    },
    {
      "cell_type": "code",
      "execution_count": null,
      "metadata": {
        "execution": {
          "iopub.execute_input": "2023-01-13T09:20:32.208872Z",
          "iopub.status.busy": "2023-01-13T09:20:32.208006Z",
          "iopub.status.idle": "2023-01-13T09:20:33.575372Z",
          "shell.execute_reply": "2023-01-13T09:20:33.573095Z",
          "shell.execute_reply.started": "2023-01-13T09:20:32.208825Z"
        },
        "id": "JbmlTYVoh41e"
      },
      "outputs": [],
      "source": [
        "from sklearn.linear_model import LogisticRegression\n",
        "# Create a transformation pipeline\n",
        "# The pipeline sequentially applies a list of transforms and as a final estimator logistic regression\n",
        "pipeline_log = Pipeline([\n",
        "                ('count', CountVectorizer()),\n",
        "                ('tfidf', TfidfTransformer()),\n",
        "                ('clf', LogisticRegression(solver='liblinear', multi_class='auto')),\n",
        "        ])\n",
        "\n",
        "# Train model using the created sklearn pipeline\n",
        "model_name = 'logistic regression classifier'\n",
        "model_lgr = pipeline_log.fit(training_bs['cleanText'], training_bs['Sentiment'])"
      ]
    },
    {
      "cell_type": "code",
      "execution_count": null,
      "metadata": {
        "execution": {
          "iopub.execute_input": "2023-01-13T09:20:33.580489Z",
          "iopub.status.busy": "2023-01-13T09:20:33.578721Z",
          "iopub.status.idle": "2023-01-13T09:20:33.606601Z",
          "shell.execute_reply": "2023-01-13T09:20:33.604572Z",
          "shell.execute_reply.started": "2023-01-13T09:20:33.580395Z"
        },
        "id": "R-rOlcaBh41e",
        "outputId": "13bca035-eef1-47b2-b601-cb0ee069ae59"
      },
      "outputs": [
        {
          "name": "stdout",
          "output_type": "stream",
          "text": [
            "Mondays just suck!-> Positive\n",
            "I love this product-> Positive\n",
            "That is a tree-> Negative\n",
            "Terrible service-> Negative\n"
          ]
        }
      ],
      "source": [
        "testphrases = ['Mondays just suck!', 'I love this product', 'That is a tree', 'Terrible service']\n",
        "for testphrase in testphrases:\n",
        "    resultx = model_lgr.predict([testphrase]) # use model_bayes for predictions with the other model\n",
        "    dict = {1: 'Negative', 2: 'Neutral', 3: 'Positive'}\n",
        "    print(testphrase + '-> ' + dict[resultx[0]])"
      ]
    },
    {
      "cell_type": "code",
      "execution_count": null,
      "metadata": {
        "execution": {
          "iopub.execute_input": "2023-01-13T09:20:35.700803Z",
          "iopub.status.busy": "2023-01-13T09:20:35.700375Z",
          "iopub.status.idle": "2023-01-13T09:20:35.713238Z",
          "shell.execute_reply": "2023-01-13T09:20:35.711724Z",
          "shell.execute_reply.started": "2023-01-13T09:20:35.700755Z"
        },
        "id": "OahA5yeEh41e",
        "outputId": "19abad4b-77fc-4e96-e7c1-92203f5a37cd"
      },
      "outputs": [
        {
          "name": "stdout",
          "output_type": "stream",
          "text": [
            "Positive\n"
          ]
        }
      ],
      "source": [
        "dict = {1: 'Negative', 2: 'Neutral', 3: 'Positive'}\n",
        "testphrase = \"Anyhow. What I have always loved regarding Gintama, is its content of everything. I love the comedy, its absurd, random, can be vile, dirty, sweet, anyhow, everything. Have laughed countless times in this franchise. Also the humor they have also is heavily reference based, a.k.a parodies of different anime, shows, manga, live stuff, real world, anime production and so on. Anyhow, comedy/parody side of this franchise i absolutely love.  Now, 2nd side of this show is the serious dramas, epic battle shounens and so on.. There are arcs that are fully comedy, arcs that are fully serious and mixtures of both. Serious side is usually quite dramatic and managed to somewhat tear me up now and then. Whilst the action sequences are absolute bliss as well. They are just presented in a really cool manner. And extra points when sometime the add artistic element.  Of course it has its slice-of-life side and pseudo-romance. Those are weaker side, but ain't the focus. But when sometimes those are the 'focus', then they are done in enjoyable method.  To sum up overall gintama's, I love the serious side and the silly side.  Art and sound  is something I loved in all gintamas across the board. They just click with me, bliss to look at, bliss to hear. Music  specifically are hyped up and upbeat, which generally I don't like, but gintama is the exception where I love them. Art is cool, sometimes artistic, sometimes simple. It has a bit of everything that makes it enjoyable. And gore is absolutely satisfying as well.   Well, the serious side of stories in this anime are superb in my opinion. . But wouldn't say comedic side of series story is any worse.  When at times comedy side has 'story'. It's usually quite enjoyable.  Regarding characters I don't have much to say other than that variety, stereotypes of 'off-stereotypes' is very large. As well characters with depth but as well with oddity is as well in great selection. Main team. Gintoki the lazy dirty slob with superb second side of seriousness and caring about friends/allies. Shinpachi the poor straight-man-act sidekick, who adds great value to the team. Kagura, the battle race girl that doesn't act like girl almost at all, or in another words a dirty slob girl in a sense. -----------------  Now, to this season specific.  I found it a bit disappointing. Mainly because usually in gintama we have overly serious arcs or fully comedic, whilst this one had a bit of mixture of both, which somewhat ruined the experience. Plus the artistic presentation felt this time around a bit lacking. Maybe because of another studio, who knows. But anyhow, it didn't feel as superb. Rather than gintama it felt as watching just another good battle shounen anime in modern day with simplified animation.  I mean it definitely was not any bad, just didn't have the punch Gintama usually has. Might be because it was short series, maybe because it focused too much moving on with story. It'll be shame to see it finalized in this manner.  Rest I pretty much loved as usual in Gintama franchise.\"\n",
        "r = model_lgr.predict([testphrase])\n",
        "print(dict[r[0]])"
      ]
    },
    {
      "cell_type": "code",
      "execution_count": null,
      "metadata": {
        "execution": {
          "iopub.execute_input": "2023-01-13T09:20:40.448193Z",
          "iopub.status.busy": "2023-01-13T09:20:40.447451Z",
          "iopub.status.idle": "2023-01-13T09:20:40.473986Z",
          "shell.execute_reply": "2023-01-13T09:20:40.472766Z",
          "shell.execute_reply.started": "2023-01-13T09:20:40.448153Z"
        },
        "id": "cQoGtRc8h41e",
        "outputId": "da961e79-0ed2-4073-a73a-209de5e1959a"
      },
      "outputs": [
        {
          "data": {
            "text/html": [
              "<div>\n",
              "<style scoped>\n",
              "    .dataframe tbody tr th:only-of-type {\n",
              "        vertical-align: middle;\n",
              "    }\n",
              "\n",
              "    .dataframe tbody tr th {\n",
              "        vertical-align: top;\n",
              "    }\n",
              "\n",
              "    .dataframe thead th {\n",
              "        text-align: right;\n",
              "    }\n",
              "</style>\n",
              "<table border=\"1\" class=\"dataframe\">\n",
              "  <thead>\n",
              "    <tr style=\"text-align: right;\">\n",
              "      <th></th>\n",
              "      <th>uid</th>\n",
              "      <th>profile</th>\n",
              "      <th>anime_uid</th>\n",
              "      <th>text</th>\n",
              "      <th>score</th>\n",
              "      <th>scores</th>\n",
              "      <th>link</th>\n",
              "      <th>cleanText</th>\n",
              "      <th>Positive</th>\n",
              "      <th>Negative</th>\n",
              "      <th>Neutral</th>\n",
              "      <th>Compound</th>\n",
              "      <th>Sentiment</th>\n",
              "    </tr>\n",
              "  </thead>\n",
              "  <tbody>\n",
              "    <tr>\n",
              "      <th>0</th>\n",
              "      <td>221311</td>\n",
              "      <td>AniimeFreak</td>\n",
              "      <td>202</td>\n",
              "      <td>\\n           \\n         \\n           \\n       ...</td>\n",
              "      <td>4</td>\n",
              "      <td>{'Overall': '4', 'Story': '4', 'Animation': '5...</td>\n",
              "      <td>https://myanimelist.net/reviews.php?id=221311</td>\n",
              "      <td>...</td>\n",
              "      <td>0.145</td>\n",
              "      <td>0.159</td>\n",
              "      <td>0.697</td>\n",
              "      <td>-0.0429</td>\n",
              "      <td>2</td>\n",
              "    </tr>\n",
              "    <tr>\n",
              "      <th>1</th>\n",
              "      <td>221311</td>\n",
              "      <td>AniimeFreak</td>\n",
              "      <td>202</td>\n",
              "      <td>\\n           \\n         \\n           \\n       ...</td>\n",
              "      <td>4</td>\n",
              "      <td>{'Overall': '4', 'Story': '4', 'Animation': '5...</td>\n",
              "      <td>https://myanimelist.net/reviews.php?id=221311</td>\n",
              "      <td>...</td>\n",
              "      <td>0.145</td>\n",
              "      <td>0.159</td>\n",
              "      <td>0.697</td>\n",
              "      <td>-0.0429</td>\n",
              "      <td>2</td>\n",
              "    </tr>\n",
              "    <tr>\n",
              "      <th>2</th>\n",
              "      <td>221311</td>\n",
              "      <td>AniimeFreak</td>\n",
              "      <td>202</td>\n",
              "      <td>\\n           \\n         \\n           \\n       ...</td>\n",
              "      <td>4</td>\n",
              "      <td>{'Overall': '4', 'Story': '4', 'Animation': '5...</td>\n",
              "      <td>https://myanimelist.net/reviews.php?id=221311</td>\n",
              "      <td>...</td>\n",
              "      <td>0.145</td>\n",
              "      <td>0.159</td>\n",
              "      <td>0.697</td>\n",
              "      <td>-0.0429</td>\n",
              "      <td>2</td>\n",
              "    </tr>\n",
              "    <tr>\n",
              "      <th>3</th>\n",
              "      <td>221311</td>\n",
              "      <td>AniimeFreak</td>\n",
              "      <td>202</td>\n",
              "      <td>\\n           \\n         \\n           \\n       ...</td>\n",
              "      <td>4</td>\n",
              "      <td>{'Overall': '4', 'Story': '4', 'Animation': '5...</td>\n",
              "      <td>https://myanimelist.net/reviews.php?id=221311</td>\n",
              "      <td>...</td>\n",
              "      <td>0.145</td>\n",
              "      <td>0.159</td>\n",
              "      <td>0.697</td>\n",
              "      <td>-0.0429</td>\n",
              "      <td>2</td>\n",
              "    </tr>\n",
              "    <tr>\n",
              "      <th>4</th>\n",
              "      <td>221311</td>\n",
              "      <td>AniimeFreak</td>\n",
              "      <td>202</td>\n",
              "      <td>\\n           \\n         \\n           \\n       ...</td>\n",
              "      <td>4</td>\n",
              "      <td>{'Overall': '4', 'Story': '4', 'Animation': '5...</td>\n",
              "      <td>https://myanimelist.net/reviews.php?id=221311</td>\n",
              "      <td>...</td>\n",
              "      <td>0.145</td>\n",
              "      <td>0.159</td>\n",
              "      <td>0.697</td>\n",
              "      <td>-0.0429</td>\n",
              "      <td>2</td>\n",
              "    </tr>\n",
              "  </tbody>\n",
              "</table>\n",
              "</div>"
            ],
            "text/plain": [
              "      uid      profile  anime_uid  \\\n",
              "0  221311  AniimeFreak        202   \n",
              "1  221311  AniimeFreak        202   \n",
              "2  221311  AniimeFreak        202   \n",
              "3  221311  AniimeFreak        202   \n",
              "4  221311  AniimeFreak        202   \n",
              "\n",
              "                                                text  score  \\\n",
              "0  \\n           \\n         \\n           \\n       ...      4   \n",
              "1  \\n           \\n         \\n           \\n       ...      4   \n",
              "2  \\n           \\n         \\n           \\n       ...      4   \n",
              "3  \\n           \\n         \\n           \\n       ...      4   \n",
              "4  \\n           \\n         \\n           \\n       ...      4   \n",
              "\n",
              "                                              scores  \\\n",
              "0  {'Overall': '4', 'Story': '4', 'Animation': '5...   \n",
              "1  {'Overall': '4', 'Story': '4', 'Animation': '5...   \n",
              "2  {'Overall': '4', 'Story': '4', 'Animation': '5...   \n",
              "3  {'Overall': '4', 'Story': '4', 'Animation': '5...   \n",
              "4  {'Overall': '4', 'Story': '4', 'Animation': '5...   \n",
              "\n",
              "                                            link  \\\n",
              "0  https://myanimelist.net/reviews.php?id=221311   \n",
              "1  https://myanimelist.net/reviews.php?id=221311   \n",
              "2  https://myanimelist.net/reviews.php?id=221311   \n",
              "3  https://myanimelist.net/reviews.php?id=221311   \n",
              "4  https://myanimelist.net/reviews.php?id=221311   \n",
              "\n",
              "                                           cleanText  Positive  Negative  \\\n",
              "0                                                ...     0.145     0.159   \n",
              "1                                                ...     0.145     0.159   \n",
              "2                                                ...     0.145     0.159   \n",
              "3                                                ...     0.145     0.159   \n",
              "4                                                ...     0.145     0.159   \n",
              "\n",
              "   Neutral  Compound  Sentiment  \n",
              "0    0.697   -0.0429          2  \n",
              "1    0.697   -0.0429          2  \n",
              "2    0.697   -0.0429          2  \n",
              "3    0.697   -0.0429          2  \n",
              "4    0.697   -0.0429          2  "
            ]
          },
          "execution_count": 63,
          "metadata": {},
          "output_type": "execute_result"
        }
      ],
      "source": [
        "# Replace the Classes with Integer Values\n",
        "train.replace(cleanup_nums, inplace=True)\n",
        "train.head()"
      ]
    },
    {
      "cell_type": "code",
      "execution_count": null,
      "metadata": {
        "execution": {
          "iopub.execute_input": "2023-01-13T09:20:41.163355Z",
          "iopub.status.busy": "2023-01-13T09:20:41.162921Z",
          "iopub.status.idle": "2023-01-13T09:20:42.178528Z",
          "shell.execute_reply": "2023-01-13T09:20:42.177054Z",
          "shell.execute_reply.started": "2023-01-13T09:20:41.163322Z"
        },
        "id": "oTsYJJmDh41e"
      },
      "outputs": [],
      "source": [
        "# Create a pipeline which transforms phrases into normalized feature vectors and uses a bayes estimator\n",
        "model_name = 'bayes classifier train dataset'\n",
        "\n",
        "pipeline_bayes = Pipeline([\n",
        "                ('count', CountVectorizer()),\n",
        "                ('tfidf', TfidfTransformer()),\n",
        "                ('gnb', MultinomialNB()),\n",
        "                ])\n",
        "\n",
        "# Train model using the created sklearn pipeline\n",
        "model_bayes_train = pipeline_bayes.fit(train['cleanText'], train['Sentiment'])"
      ]
    },
    {
      "cell_type": "code",
      "execution_count": null,
      "metadata": {
        "execution": {
          "iopub.execute_input": "2023-01-13T09:20:42.181119Z",
          "iopub.status.busy": "2023-01-13T09:20:42.180669Z",
          "iopub.status.idle": "2023-01-13T09:20:42.198863Z",
          "shell.execute_reply": "2023-01-13T09:20:42.197316Z",
          "shell.execute_reply.started": "2023-01-13T09:20:42.181075Z"
        },
        "id": "mopXOSlSh41f",
        "outputId": "481d02a7-f22f-4e6f-bedd-123759c4b3d7"
      },
      "outputs": [
        {
          "name": "stdout",
          "output_type": "stream",
          "text": [
            "Mondays just suck!-> Neutral\n",
            "I love this product-> Positive\n",
            "That is a tree-> Negative\n",
            "Terrible service-> Negative\n"
          ]
        }
      ],
      "source": [
        "testphrases = ['Mondays just suck!', 'I love this product', 'That is a tree', 'Terrible service']\n",
        "for testphrase in testphrases:\n",
        "    resultx = model_bayes_train.predict([testphrase]) # use model_bayes for predictions with the other model\n",
        "    dict = {1: 'Negative', 2: 'Neutral', 3: 'Positive'}\n",
        "    print(testphrase + '-> ' + dict[resultx[0]])"
      ]
    },
    {
      "cell_type": "markdown",
      "metadata": {
        "id": "SJKxJ21Lh41f"
      },
      "source": [
        "# Model Naive Bayes"
      ]
    },
    {
      "cell_type": "code",
      "execution_count": null,
      "metadata": {
        "execution": {
          "iopub.execute_input": "2023-01-13T10:15:17.793677Z",
          "iopub.status.busy": "2023-01-13T10:15:17.793271Z",
          "iopub.status.idle": "2023-01-13T10:15:18.168686Z",
          "shell.execute_reply": "2023-01-13T10:15:18.167234Z",
          "shell.execute_reply.started": "2023-01-13T10:15:17.793642Z"
        },
        "id": "nfMjs38Uh41f",
        "outputId": "040f6bb8-2fcf-4dc7-ecdb-7f964cc072fc"
      },
      "outputs": [
        {
          "name": "stdout",
          "output_type": "stream",
          "text": [
            "              precision    recall  f1-score     support\n",
            "negative       0.258741  0.578125  0.357488   64.000000\n",
            "neutral        0.000000  0.000000  0.000000    1.000000\n",
            "positive       0.963061  0.873206  0.915935  836.000000\n",
            "accuracy       0.851276  0.851276  0.851276    0.851276\n",
            "macro avg      0.407267  0.483777  0.424474  901.000000\n",
            "weighted avg   0.911962  0.851276  0.875250  901.000000\n"
          ]
        },
        {
          "name": "stderr",
          "output_type": "stream",
          "text": [
            "C:\\Users\\Admin\\anaconda3\\lib\\site-packages\\sklearn\\metrics\\_classification.py:1318: UndefinedMetricWarning: Precision and F-score are ill-defined and being set to 0.0 in labels with no predicted samples. Use `zero_division` parameter to control this behavior.\n",
            "  _warn_prf(average, modifier, msg_start, len(result))\n",
            "C:\\Users\\Admin\\anaconda3\\lib\\site-packages\\sklearn\\metrics\\_classification.py:1318: UndefinedMetricWarning: Precision and F-score are ill-defined and being set to 0.0 in labels with no predicted samples. Use `zero_division` parameter to control this behavior.\n",
            "  _warn_prf(average, modifier, msg_start, len(result))\n",
            "C:\\Users\\Admin\\anaconda3\\lib\\site-packages\\sklearn\\metrics\\_classification.py:1318: UndefinedMetricWarning: Precision and F-score are ill-defined and being set to 0.0 in labels with no predicted samples. Use `zero_division` parameter to control this behavior.\n",
            "  _warn_prf(average, modifier, msg_start, len(result))\n"
          ]
        }
      ],
      "source": [
        "from sklearn.metrics import classification_report\n",
        "\n",
        "# Predict class labels using the learner function\n",
        "test['pred'] = model_bayes.predict(test['cleanText'])\n",
        "y_true = test['Sentiment']\n",
        "y_pred = test['pred']\n",
        "target_names = ['negative', 'neutral', 'positive']\n",
        "\n",
        "results_log = classification_report(y_true, y_pred, target_names=target_names, output_dict=True)\n",
        "results_df_log = pd.DataFrame(results_log).transpose()\n",
        "print(results_df_log)"
      ]
    },
    {
      "cell_type": "markdown",
      "metadata": {
        "id": "eUjfWxtFh41f"
      },
      "source": [
        "## Model Logistic Regression"
      ]
    },
    {
      "cell_type": "code",
      "execution_count": null,
      "metadata": {
        "execution": {
          "iopub.execute_input": "2023-01-13T10:17:59.006715Z",
          "iopub.status.busy": "2023-01-13T10:17:59.006244Z",
          "iopub.status.idle": "2023-01-13T10:17:59.389356Z",
          "shell.execute_reply": "2023-01-13T10:17:59.387851Z",
          "shell.execute_reply.started": "2023-01-13T10:17:59.006676Z"
        },
        "id": "T9m4SSmRh41f",
        "outputId": "c15e93e6-3ab2-446c-d01e-36aa913dfa1c"
      },
      "outputs": [
        {
          "name": "stdout",
          "output_type": "stream",
          "text": [
            "              precision    recall  f1-score     support\n",
            "negative       0.324561  0.578125  0.415730   64.000000\n",
            "neutral        0.000000  0.000000  0.000000    1.000000\n",
            "positive       0.965693  0.909091  0.936537  836.000000\n",
            "accuracy       0.884573  0.884573  0.884573    0.884573\n",
            "macro avg      0.430085  0.495739  0.450756  901.000000\n",
            "weighted avg   0.919080  0.884573  0.898504  901.000000\n"
          ]
        },
        {
          "name": "stderr",
          "output_type": "stream",
          "text": [
            "C:\\Users\\Admin\\anaconda3\\lib\\site-packages\\sklearn\\metrics\\_classification.py:1318: UndefinedMetricWarning: Precision and F-score are ill-defined and being set to 0.0 in labels with no predicted samples. Use `zero_division` parameter to control this behavior.\n",
            "  _warn_prf(average, modifier, msg_start, len(result))\n",
            "C:\\Users\\Admin\\anaconda3\\lib\\site-packages\\sklearn\\metrics\\_classification.py:1318: UndefinedMetricWarning: Precision and F-score are ill-defined and being set to 0.0 in labels with no predicted samples. Use `zero_division` parameter to control this behavior.\n",
            "  _warn_prf(average, modifier, msg_start, len(result))\n",
            "C:\\Users\\Admin\\anaconda3\\lib\\site-packages\\sklearn\\metrics\\_classification.py:1318: UndefinedMetricWarning: Precision and F-score are ill-defined and being set to 0.0 in labels with no predicted samples. Use `zero_division` parameter to control this behavior.\n",
            "  _warn_prf(average, modifier, msg_start, len(result))\n"
          ]
        }
      ],
      "source": [
        "# Predict class labels using the learner function\n",
        "test['pred'] = model_lgr.predict(test['cleanText'])\n",
        "y_true = test['Sentiment']\n",
        "y_pred = test['pred']\n",
        "target_names = ['negative', 'neutral', 'positive']\n",
        "\n",
        "results_log = classification_report(y_true, y_pred, target_names=target_names, output_dict=True)\n",
        "results_df_log = pd.DataFrame(results_log).transpose()\n",
        "print(results_df_log)"
      ]
    },
    {
      "cell_type": "code",
      "execution_count": null,
      "metadata": {
        "execution": {
          "iopub.execute_input": "2023-01-13T10:20:58.729682Z",
          "iopub.status.busy": "2023-01-13T10:20:58.729239Z",
          "iopub.status.idle": "2023-01-13T10:20:58.763034Z",
          "shell.execute_reply": "2023-01-13T10:20:58.761710Z",
          "shell.execute_reply.started": "2023-01-13T10:20:58.729648Z"
        },
        "id": "N6haSbn0h41f",
        "outputId": "d7e37bbc-c1ce-40a1-92e0-f19d5301d170"
      },
      "outputs": [
        {
          "data": {
            "text/html": [
              "<div>\n",
              "<style scoped>\n",
              "    .dataframe tbody tr th:only-of-type {\n",
              "        vertical-align: middle;\n",
              "    }\n",
              "\n",
              "    .dataframe tbody tr th {\n",
              "        vertical-align: top;\n",
              "    }\n",
              "\n",
              "    .dataframe thead th {\n",
              "        text-align: right;\n",
              "    }\n",
              "</style>\n",
              "<table border=\"1\" class=\"dataframe\">\n",
              "  <thead>\n",
              "    <tr style=\"text-align: right;\">\n",
              "      <th></th>\n",
              "      <th>uid</th>\n",
              "      <th>profile</th>\n",
              "      <th>anime_uid</th>\n",
              "      <th>text</th>\n",
              "      <th>score</th>\n",
              "      <th>scores</th>\n",
              "      <th>link</th>\n",
              "      <th>cleanText</th>\n",
              "      <th>Positive</th>\n",
              "      <th>Negative</th>\n",
              "      <th>Neutral</th>\n",
              "      <th>Compound</th>\n",
              "      <th>Sentiment</th>\n",
              "      <th>pred</th>\n",
              "    </tr>\n",
              "  </thead>\n",
              "  <tbody>\n",
              "    <tr>\n",
              "      <th>0</th>\n",
              "      <td>750</td>\n",
              "      <td>Retribution75</td>\n",
              "      <td>269</td>\n",
              "      <td>\\n           \\n         \\n           \\n       ...</td>\n",
              "      <td>10</td>\n",
              "      <td>{'Overall': '10', 'Story': '9', 'Animation': '...</td>\n",
              "      <td>https://myanimelist.net/reviews.php?id=750</td>\n",
              "      <td>...</td>\n",
              "      <td>0.135</td>\n",
              "      <td>0.047</td>\n",
              "      <td>0.818</td>\n",
              "      <td>0.9809</td>\n",
              "      <td>3</td>\n",
              "      <td>3</td>\n",
              "    </tr>\n",
              "    <tr>\n",
              "      <th>1</th>\n",
              "      <td>216172</td>\n",
              "      <td>Suzu-kun22</td>\n",
              "      <td>28999</td>\n",
              "      <td>\\n           \\n         \\n           \\n       ...</td>\n",
              "      <td>8</td>\n",
              "      <td>{'Overall': '8', 'Story': '8', 'Animation': '9...</td>\n",
              "      <td>https://myanimelist.net/reviews.php?id=216172</td>\n",
              "      <td>...</td>\n",
              "      <td>0.250</td>\n",
              "      <td>0.010</td>\n",
              "      <td>0.740</td>\n",
              "      <td>0.9985</td>\n",
              "      <td>3</td>\n",
              "      <td>3</td>\n",
              "    </tr>\n",
              "    <tr>\n",
              "      <th>2</th>\n",
              "      <td>201041</td>\n",
              "      <td>BlueKojiro</td>\n",
              "      <td>30123</td>\n",
              "      <td>\\n           \\n         \\n           \\n       ...</td>\n",
              "      <td>8</td>\n",
              "      <td>{'Overall': '8', 'Story': '7', 'Animation': '8...</td>\n",
              "      <td>https://myanimelist.net/reviews.php?id=201041</td>\n",
              "      <td>...</td>\n",
              "      <td>0.240</td>\n",
              "      <td>0.042</td>\n",
              "      <td>0.718</td>\n",
              "      <td>0.9997</td>\n",
              "      <td>3</td>\n",
              "      <td>3</td>\n",
              "    </tr>\n",
              "    <tr>\n",
              "      <th>3</th>\n",
              "      <td>93595</td>\n",
              "      <td>-Ereya-</td>\n",
              "      <td>12413</td>\n",
              "      <td>\\n           \\n         \\n           \\n       ...</td>\n",
              "      <td>8</td>\n",
              "      <td>{'Overall': '8', 'Story': '7', 'Animation': '8...</td>\n",
              "      <td>https://myanimelist.net/reviews.php?id=93595</td>\n",
              "      <td>...</td>\n",
              "      <td>0.187</td>\n",
              "      <td>0.122</td>\n",
              "      <td>0.692</td>\n",
              "      <td>0.9980</td>\n",
              "      <td>3</td>\n",
              "      <td>1</td>\n",
              "    </tr>\n",
              "    <tr>\n",
              "      <th>4</th>\n",
              "      <td>281596</td>\n",
              "      <td>nozoparfait</td>\n",
              "      <td>36214</td>\n",
              "      <td>\\n           \\n         \\n           \\n       ...</td>\n",
              "      <td>10</td>\n",
              "      <td>{'Overall': '10', 'Story': '7', 'Animation': '...</td>\n",
              "      <td>https://myanimelist.net/reviews.php?id=281596</td>\n",
              "      <td>...</td>\n",
              "      <td>0.243</td>\n",
              "      <td>0.060</td>\n",
              "      <td>0.697</td>\n",
              "      <td>0.9872</td>\n",
              "      <td>3</td>\n",
              "      <td>3</td>\n",
              "    </tr>\n",
              "    <tr>\n",
              "      <th>...</th>\n",
              "      <td>...</td>\n",
              "      <td>...</td>\n",
              "      <td>...</td>\n",
              "      <td>...</td>\n",
              "      <td>...</td>\n",
              "      <td>...</td>\n",
              "      <td>...</td>\n",
              "      <td>...</td>\n",
              "      <td>...</td>\n",
              "      <td>...</td>\n",
              "      <td>...</td>\n",
              "      <td>...</td>\n",
              "      <td>...</td>\n",
              "      <td>...</td>\n",
              "    </tr>\n",
              "    <tr>\n",
              "      <th>896</th>\n",
              "      <td>222232</td>\n",
              "      <td>klipol</td>\n",
              "      <td>27633</td>\n",
              "      <td>\\n           \\n         \\n           \\n       ...</td>\n",
              "      <td>8</td>\n",
              "      <td>{'Overall': '8', 'Story': '0', 'Animation': '0...</td>\n",
              "      <td>https://myanimelist.net/reviews.php?id=222232</td>\n",
              "      <td>...</td>\n",
              "      <td>0.262</td>\n",
              "      <td>0.073</td>\n",
              "      <td>0.665</td>\n",
              "      <td>0.9934</td>\n",
              "      <td>3</td>\n",
              "      <td>3</td>\n",
              "    </tr>\n",
              "    <tr>\n",
              "      <th>897</th>\n",
              "      <td>199708</td>\n",
              "      <td>ObjectiveOpinion</td>\n",
              "      <td>28999</td>\n",
              "      <td>\\n           \\n         \\n           \\n       ...</td>\n",
              "      <td>3</td>\n",
              "      <td>{'Overall': '3', 'Story': '2', 'Animation': '7...</td>\n",
              "      <td>https://myanimelist.net/reviews.php?id=199708</td>\n",
              "      <td>...</td>\n",
              "      <td>0.106</td>\n",
              "      <td>0.108</td>\n",
              "      <td>0.786</td>\n",
              "      <td>-0.9136</td>\n",
              "      <td>1</td>\n",
              "      <td>1</td>\n",
              "    </tr>\n",
              "    <tr>\n",
              "      <th>898</th>\n",
              "      <td>63241</td>\n",
              "      <td>Xavirne</td>\n",
              "      <td>552</td>\n",
              "      <td>\\n           \\n         \\n           \\n       ...</td>\n",
              "      <td>9</td>\n",
              "      <td>{'Overall': '9', 'Story': '9', 'Animation': '8...</td>\n",
              "      <td>https://myanimelist.net/reviews.php?id=63241</td>\n",
              "      <td>...</td>\n",
              "      <td>0.341</td>\n",
              "      <td>0.049</td>\n",
              "      <td>0.610</td>\n",
              "      <td>0.9926</td>\n",
              "      <td>3</td>\n",
              "      <td>3</td>\n",
              "    </tr>\n",
              "    <tr>\n",
              "      <th>899</th>\n",
              "      <td>320191</td>\n",
              "      <td>Krunchyman</td>\n",
              "      <td>36369</td>\n",
              "      <td>\\n           \\n         \\n           \\n       ...</td>\n",
              "      <td>5</td>\n",
              "      <td>{'Overall': '5', 'Story': '5', 'Animation': '5...</td>\n",
              "      <td>https://myanimelist.net/reviews.php?id=320191</td>\n",
              "      <td>...</td>\n",
              "      <td>0.198</td>\n",
              "      <td>0.063</td>\n",
              "      <td>0.739</td>\n",
              "      <td>0.9957</td>\n",
              "      <td>3</td>\n",
              "      <td>3</td>\n",
              "    </tr>\n",
              "    <tr>\n",
              "      <th>900</th>\n",
              "      <td>187674</td>\n",
              "      <td>Pastabeanchuu</td>\n",
              "      <td>3092</td>\n",
              "      <td>\\n           \\n         \\n           \\n       ...</td>\n",
              "      <td>2</td>\n",
              "      <td>{'Overall': '2', 'Story': '3', 'Animation': '2...</td>\n",
              "      <td>https://myanimelist.net/reviews.php?id=187674</td>\n",
              "      <td>...</td>\n",
              "      <td>0.169</td>\n",
              "      <td>0.070</td>\n",
              "      <td>0.760</td>\n",
              "      <td>0.9820</td>\n",
              "      <td>3</td>\n",
              "      <td>3</td>\n",
              "    </tr>\n",
              "  </tbody>\n",
              "</table>\n",
              "<p>901 rows × 14 columns</p>\n",
              "</div>"
            ],
            "text/plain": [
              "        uid           profile  anime_uid  \\\n",
              "0       750     Retribution75        269   \n",
              "1    216172        Suzu-kun22      28999   \n",
              "2    201041        BlueKojiro      30123   \n",
              "3     93595           -Ereya-      12413   \n",
              "4    281596       nozoparfait      36214   \n",
              "..      ...               ...        ...   \n",
              "896  222232            klipol      27633   \n",
              "897  199708  ObjectiveOpinion      28999   \n",
              "898   63241           Xavirne        552   \n",
              "899  320191        Krunchyman      36369   \n",
              "900  187674     Pastabeanchuu       3092   \n",
              "\n",
              "                                                  text  score  \\\n",
              "0    \\n           \\n         \\n           \\n       ...     10   \n",
              "1    \\n           \\n         \\n           \\n       ...      8   \n",
              "2    \\n           \\n         \\n           \\n       ...      8   \n",
              "3    \\n           \\n         \\n           \\n       ...      8   \n",
              "4    \\n           \\n         \\n           \\n       ...     10   \n",
              "..                                                 ...    ...   \n",
              "896  \\n           \\n         \\n           \\n       ...      8   \n",
              "897  \\n           \\n         \\n           \\n       ...      3   \n",
              "898  \\n           \\n         \\n           \\n       ...      9   \n",
              "899  \\n           \\n         \\n           \\n       ...      5   \n",
              "900  \\n           \\n         \\n           \\n       ...      2   \n",
              "\n",
              "                                                scores  \\\n",
              "0    {'Overall': '10', 'Story': '9', 'Animation': '...   \n",
              "1    {'Overall': '8', 'Story': '8', 'Animation': '9...   \n",
              "2    {'Overall': '8', 'Story': '7', 'Animation': '8...   \n",
              "3    {'Overall': '8', 'Story': '7', 'Animation': '8...   \n",
              "4    {'Overall': '10', 'Story': '7', 'Animation': '...   \n",
              "..                                                 ...   \n",
              "896  {'Overall': '8', 'Story': '0', 'Animation': '0...   \n",
              "897  {'Overall': '3', 'Story': '2', 'Animation': '7...   \n",
              "898  {'Overall': '9', 'Story': '9', 'Animation': '8...   \n",
              "899  {'Overall': '5', 'Story': '5', 'Animation': '5...   \n",
              "900  {'Overall': '2', 'Story': '3', 'Animation': '2...   \n",
              "\n",
              "                                              link  \\\n",
              "0       https://myanimelist.net/reviews.php?id=750   \n",
              "1    https://myanimelist.net/reviews.php?id=216172   \n",
              "2    https://myanimelist.net/reviews.php?id=201041   \n",
              "3     https://myanimelist.net/reviews.php?id=93595   \n",
              "4    https://myanimelist.net/reviews.php?id=281596   \n",
              "..                                             ...   \n",
              "896  https://myanimelist.net/reviews.php?id=222232   \n",
              "897  https://myanimelist.net/reviews.php?id=199708   \n",
              "898   https://myanimelist.net/reviews.php?id=63241   \n",
              "899  https://myanimelist.net/reviews.php?id=320191   \n",
              "900  https://myanimelist.net/reviews.php?id=187674   \n",
              "\n",
              "                                             cleanText  Positive  Negative  \\\n",
              "0                                                  ...     0.135     0.047   \n",
              "1                                                  ...     0.250     0.010   \n",
              "2                                                  ...     0.240     0.042   \n",
              "3                                                  ...     0.187     0.122   \n",
              "4                                                  ...     0.243     0.060   \n",
              "..                                                 ...       ...       ...   \n",
              "896                                                ...     0.262     0.073   \n",
              "897                                                ...     0.106     0.108   \n",
              "898                                                ...     0.341     0.049   \n",
              "899                                                ...     0.198     0.063   \n",
              "900                                                ...     0.169     0.070   \n",
              "\n",
              "     Neutral  Compound  Sentiment  pred  \n",
              "0      0.818    0.9809          3     3  \n",
              "1      0.740    0.9985          3     3  \n",
              "2      0.718    0.9997          3     3  \n",
              "3      0.692    0.9980          3     1  \n",
              "4      0.697    0.9872          3     3  \n",
              "..       ...       ...        ...   ...  \n",
              "896    0.665    0.9934          3     3  \n",
              "897    0.786   -0.9136          1     1  \n",
              "898    0.610    0.9926          3     3  \n",
              "899    0.739    0.9957          3     3  \n",
              "900    0.760    0.9820          3     3  \n",
              "\n",
              "[901 rows x 14 columns]"
            ]
          },
          "execution_count": 69,
          "metadata": {},
          "output_type": "execute_result"
        }
      ],
      "source": [
        "test"
      ]
    },
    {
      "cell_type": "code",
      "execution_count": null,
      "metadata": {
        "id": "wdX5aPITh41g"
      },
      "outputs": [],
      "source": []
    }
  ],
  "metadata": {
    "kernelspec": {
      "display_name": "Python 3 (ipykernel)",
      "language": "python",
      "name": "python3"
    },
    "language_info": {
      "codemirror_mode": {
        "name": "ipython",
        "version": 3
      },
      "file_extension": ".py",
      "mimetype": "text/x-python",
      "name": "python",
      "nbconvert_exporter": "python",
      "pygments_lexer": "ipython3",
      "version": "3.9.13"
    },
    "colab": {
      "provenance": []
    }
  },
  "nbformat": 4,
  "nbformat_minor": 0
}